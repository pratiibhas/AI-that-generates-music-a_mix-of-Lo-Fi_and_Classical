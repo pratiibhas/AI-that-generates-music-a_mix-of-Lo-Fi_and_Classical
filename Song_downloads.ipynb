{
  "nbformat": 4,
  "nbformat_minor": 0,
  "metadata": {
    "colab": {
      "provenance": []
    },
    "kernelspec": {
      "name": "python3",
      "display_name": "Python 3"
    },
    "language_info": {
      "name": "python"
    }
  },
  "cells": [
    {
      "cell_type": "code",
      "execution_count": null,
      "metadata": {
        "colab": {
          "base_uri": "https://localhost:8080/"
        },
        "id": "cLQhgcAuXpl0",
        "outputId": "ba59d76e-4a15-498f-889b-8de845f16e49"
      },
      "outputs": [
        {
          "output_type": "stream",
          "name": "stdout",
          "text": [
            "Collecting yt-dlp\n",
            "  Downloading yt_dlp-2025.4.30-py3-none-any.whl.metadata (173 kB)\n",
            "\u001b[2K     \u001b[90m━━━━━━━━━━━━━━━━━━━━━━━━━━━━━━━━━━━━━━━\u001b[0m \u001b[32m173.3/173.3 kB\u001b[0m \u001b[31m2.3 MB/s\u001b[0m eta \u001b[36m0:00:00\u001b[0m\n",
            "\u001b[?25hDownloading yt_dlp-2025.4.30-py3-none-any.whl (3.2 MB)\n",
            "\u001b[2K   \u001b[90m━━━━━━━━━━━━━━━━━━━━━━━━━━━━━━━━━━━━━━━━\u001b[0m \u001b[32m3.2/3.2 MB\u001b[0m \u001b[31m31.8 MB/s\u001b[0m eta \u001b[36m0:00:00\u001b[0m\n",
            "\u001b[?25hInstalling collected packages: yt-dlp\n",
            "Successfully installed yt-dlp-2025.4.30\n"
          ]
        }
      ],
      "source": [
        "!pip install yt-dlp"
      ]
    },
    {
      "cell_type": "code",
      "source": [
        "!yt-dlp -x --audio-format mp3 \"https://www.youtube.com/watch?v=k5rEQ2wFPUw\" # classical - 1:43 hr\n"
      ],
      "metadata": {
        "colab": {
          "base_uri": "https://localhost:8080/"
        },
        "id": "beH7QQzNXugg",
        "outputId": "3ccb7260-b3ef-414f-8d61-300747dd56b5"
      },
      "execution_count": null,
      "outputs": [
        {
          "output_type": "stream",
          "name": "stdout",
          "text": [
            "[youtube] Extracting URL: https://www.youtube.com/watch?v=k5rEQ2wFPUw\n",
            "[youtube] k5rEQ2wFPUw: Downloading webpage\n",
            "[youtube] k5rEQ2wFPUw: Downloading tv client config\n",
            "[youtube] k5rEQ2wFPUw: Downloading player ab11fe69-main\n",
            "[youtube] k5rEQ2wFPUw: Downloading tv player API JSON\n",
            "[youtube] k5rEQ2wFPUw: Downloading ios player API JSON\n",
            "[youtube] k5rEQ2wFPUw: Downloading m3u8 information\n",
            "[info] k5rEQ2wFPUw: Downloading 1 format(s): 251\n",
            "[download] Destination: a playlist for night studies (dark academia) [k5rEQ2wFPUw].webm\n",
            "\u001b[K[download] 100% of  128.61MiB in \u001b[1;37m00:00:17\u001b[0m at \u001b[0;32m7.45MiB/s\u001b[0m\n",
            "[ExtractAudio] Destination: a playlist for night studies (dark academia) [k5rEQ2wFPUw].mp3\n",
            "Deleting original file a playlist for night studies (dark academia) [k5rEQ2wFPUw].webm (pass -k to keep)\n"
          ]
        }
      ]
    },
    {
      "cell_type": "code",
      "source": [
        "!ls"
      ],
      "metadata": {
        "colab": {
          "base_uri": "https://localhost:8080/"
        },
        "id": "2wFSMNq4aCd4",
        "outputId": "a4b2c98a-444f-46af-f969-54f175948198"
      },
      "execution_count": null,
      "outputs": [
        {
          "output_type": "stream",
          "name": "stdout",
          "text": [
            "'a playlist for night studies (dark academia) [k5rEQ2wFPUw].mp3'   sample_data\n"
          ]
        }
      ]
    },
    {
      "cell_type": "code",
      "source": [
        "from google.colab import files\n",
        "files.download(\"a playlist for night studies (dark academia) [k5rEQ2wFPUw].mp3\")\n"
      ],
      "metadata": {
        "colab": {
          "base_uri": "https://localhost:8080/",
          "height": 17
        },
        "id": "IeS0j3zPXud6",
        "outputId": "09f61f2e-6a32-40af-b33a-414ea7a472db"
      },
      "execution_count": null,
      "outputs": [
        {
          "output_type": "display_data",
          "data": {
            "text/plain": [
              "<IPython.core.display.Javascript object>"
            ],
            "application/javascript": [
              "\n",
              "    async function download(id, filename, size) {\n",
              "      if (!google.colab.kernel.accessAllowed) {\n",
              "        return;\n",
              "      }\n",
              "      const div = document.createElement('div');\n",
              "      const label = document.createElement('label');\n",
              "      label.textContent = `Downloading \"${filename}\": `;\n",
              "      div.appendChild(label);\n",
              "      const progress = document.createElement('progress');\n",
              "      progress.max = size;\n",
              "      div.appendChild(progress);\n",
              "      document.body.appendChild(div);\n",
              "\n",
              "      const buffers = [];\n",
              "      let downloaded = 0;\n",
              "\n",
              "      const channel = await google.colab.kernel.comms.open(id);\n",
              "      // Send a message to notify the kernel that we're ready.\n",
              "      channel.send({})\n",
              "\n",
              "      for await (const message of channel.messages) {\n",
              "        // Send a message to notify the kernel that we're ready.\n",
              "        channel.send({})\n",
              "        if (message.buffers) {\n",
              "          for (const buffer of message.buffers) {\n",
              "            buffers.push(buffer);\n",
              "            downloaded += buffer.byteLength;\n",
              "            progress.value = downloaded;\n",
              "          }\n",
              "        }\n",
              "      }\n",
              "      const blob = new Blob(buffers, {type: 'application/binary'});\n",
              "      const a = document.createElement('a');\n",
              "      a.href = window.URL.createObjectURL(blob);\n",
              "      a.download = filename;\n",
              "      div.appendChild(a);\n",
              "      a.click();\n",
              "      div.remove();\n",
              "    }\n",
              "  "
            ]
          },
          "metadata": {}
        },
        {
          "output_type": "display_data",
          "data": {
            "text/plain": [
              "<IPython.core.display.Javascript object>"
            ],
            "application/javascript": [
              "download(\"download_bbda9669-026c-4300-88d6-129561728bca\", \"a playlist for night studies (dark academia) [k5rEQ2wFPUw].mp3\", 83600373)"
            ]
          },
          "metadata": {}
        }
      ]
    },
    {
      "cell_type": "code",
      "source": [
        "!yt-dlp -x --audio-format mp3 \"https://www.youtube.com/watch?v=stZEmKln_5k\" # Lo-fi - 2minutes"
      ],
      "metadata": {
        "colab": {
          "base_uri": "https://localhost:8080/"
        },
        "id": "huNEeNGlXubT",
        "outputId": "e6a6f89f-fe61-4775-9938-b29485d30b90"
      },
      "execution_count": null,
      "outputs": [
        {
          "output_type": "stream",
          "name": "stdout",
          "text": [
            "[youtube] Extracting URL: https://www.youtube.com/watch?v=stZEmKln_5k\n",
            "[youtube] stZEmKln_5k: Downloading webpage\n",
            "[youtube] stZEmKln_5k: Downloading tv client config\n",
            "[youtube] stZEmKln_5k: Downloading player ab11fe69-main\n",
            "[youtube] stZEmKln_5k: Downloading tv player API JSON\n",
            "[youtube] stZEmKln_5k: Downloading ios player API JSON\n",
            "[youtube] stZEmKln_5k: Downloading m3u8 information\n",
            "[info] stZEmKln_5k: Downloading 1 format(s): 251\n",
            "[download] Destination: 11 Acorn Lane - Mellow Mouser [Lofi Chillhop] [stZEmKln_5k].webm\n",
            "\u001b[K[download] 100% of    2.24MiB in \u001b[1;37m00:00:00\u001b[0m at \u001b[0;32m6.33MiB/s\u001b[0m\n",
            "[ExtractAudio] Destination: 11 Acorn Lane - Mellow Mouser [Lofi Chillhop] [stZEmKln_5k].mp3\n",
            "Deleting original file 11 Acorn Lane - Mellow Mouser [Lofi Chillhop] [stZEmKln_5k].webm (pass -k to keep)\n"
          ]
        }
      ]
    },
    {
      "cell_type": "code",
      "source": [
        "!ls"
      ],
      "metadata": {
        "colab": {
          "base_uri": "https://localhost:8080/"
        },
        "id": "3zeqswKfXuY9",
        "outputId": "33fb712f-ef44-4e4a-fde9-bfb00921bf42"
      },
      "execution_count": null,
      "outputs": [
        {
          "output_type": "stream",
          "name": "stdout",
          "text": [
            "'11 Acorn Lane - Mellow Mouser [Lofi Chillhop] [stZEmKln_5k].mp3'   sample_data\n"
          ]
        }
      ]
    },
    {
      "cell_type": "code",
      "source": [
        "from google.colab import files\n",
        "files.download(\"11 Acorn Lane - Mellow Mouser [Lofi Chillhop] [stZEmKln_5k].mp3\")"
      ],
      "metadata": {
        "colab": {
          "base_uri": "https://localhost:8080/",
          "height": 17
        },
        "id": "gwLuxOpOXuWX",
        "outputId": "108d4ef9-44b2-4a79-a66a-35af014011b2"
      },
      "execution_count": null,
      "outputs": [
        {
          "output_type": "display_data",
          "data": {
            "text/plain": [
              "<IPython.core.display.Javascript object>"
            ],
            "application/javascript": [
              "\n",
              "    async function download(id, filename, size) {\n",
              "      if (!google.colab.kernel.accessAllowed) {\n",
              "        return;\n",
              "      }\n",
              "      const div = document.createElement('div');\n",
              "      const label = document.createElement('label');\n",
              "      label.textContent = `Downloading \"${filename}\": `;\n",
              "      div.appendChild(label);\n",
              "      const progress = document.createElement('progress');\n",
              "      progress.max = size;\n",
              "      div.appendChild(progress);\n",
              "      document.body.appendChild(div);\n",
              "\n",
              "      const buffers = [];\n",
              "      let downloaded = 0;\n",
              "\n",
              "      const channel = await google.colab.kernel.comms.open(id);\n",
              "      // Send a message to notify the kernel that we're ready.\n",
              "      channel.send({})\n",
              "\n",
              "      for await (const message of channel.messages) {\n",
              "        // Send a message to notify the kernel that we're ready.\n",
              "        channel.send({})\n",
              "        if (message.buffers) {\n",
              "          for (const buffer of message.buffers) {\n",
              "            buffers.push(buffer);\n",
              "            downloaded += buffer.byteLength;\n",
              "            progress.value = downloaded;\n",
              "          }\n",
              "        }\n",
              "      }\n",
              "      const blob = new Blob(buffers, {type: 'application/binary'});\n",
              "      const a = document.createElement('a');\n",
              "      a.href = window.URL.createObjectURL(blob);\n",
              "      a.download = filename;\n",
              "      div.appendChild(a);\n",
              "      a.click();\n",
              "      div.remove();\n",
              "    }\n",
              "  "
            ]
          },
          "metadata": {}
        },
        {
          "output_type": "display_data",
          "data": {
            "text/plain": [
              "<IPython.core.display.Javascript object>"
            ],
            "application/javascript": [
              "download(\"download_10c96399-d660-4a29-909f-4b3565863936\", \"11 Acorn Lane - Mellow Mouser [Lofi Chillhop] [stZEmKln_5k].mp3\", 2307765)"
            ]
          },
          "metadata": {}
        }
      ]
    },
    {
      "cell_type": "code",
      "source": [
        "!yt-dlp -x --audio-format mp3 \"https://www.youtube.com/watch?v=ZrKPW5d3idY\" # classical -2 hours"
      ],
      "metadata": {
        "id": "sRqrfXC5XuUB",
        "colab": {
          "base_uri": "https://localhost:8080/"
        },
        "outputId": "9695344d-8fa6-4596-fc93-eef6e5d257d0"
      },
      "execution_count": null,
      "outputs": [
        {
          "output_type": "stream",
          "name": "stdout",
          "text": [
            "[youtube] Extracting URL: https://www.youtube.com/watch?v=ZrKPW5d3idY\n",
            "[youtube] ZrKPW5d3idY: Downloading webpage\n",
            "[youtube] ZrKPW5d3idY: Downloading tv client config\n",
            "[youtube] ZrKPW5d3idY: Downloading player ab11fe69-main\n",
            "[youtube] ZrKPW5d3idY: Downloading tv player API JSON\n",
            "[youtube] ZrKPW5d3idY: Downloading ios player API JSON\n",
            "[youtube] ZrKPW5d3idY: Downloading m3u8 information\n",
            "[info] ZrKPW5d3idY: Downloading 1 format(s): 251\n",
            "[download] Destination: A playlist for night studies (Dark academia). [ZrKPW5d3idY].webm\n",
            "\u001b[K[download] 100% of  105.85MiB in \u001b[1;37m00:00:01\u001b[0m at \u001b[0;32m93.60MiB/s\u001b[0m\n",
            "[ExtractAudio] Destination: A playlist for night studies (Dark academia). [ZrKPW5d3idY].mp3\n",
            "Deleting original file A playlist for night studies (Dark academia). [ZrKPW5d3idY].webm (pass -k to keep)\n"
          ]
        }
      ]
    },
    {
      "cell_type": "code",
      "source": [
        "!ls"
      ],
      "metadata": {
        "id": "ci3EMaKdXuRM",
        "colab": {
          "base_uri": "https://localhost:8080/"
        },
        "outputId": "1944c00a-f8be-4949-e2e5-e477a3cb2244"
      },
      "execution_count": null,
      "outputs": [
        {
          "output_type": "stream",
          "name": "stdout",
          "text": [
            "'A playlist for night studies (Dark academia). [ZrKPW5d3idY].mp3'   sample_data\n"
          ]
        }
      ]
    },
    {
      "cell_type": "code",
      "source": [
        "from google.colab import files\n",
        "files.download(\"A playlist for night studies (Dark academia). [ZrKPW5d3idY].mp3\")"
      ],
      "metadata": {
        "colab": {
          "base_uri": "https://localhost:8080/",
          "height": 17
        },
        "id": "-J_RDzZkPmW1",
        "outputId": "403c6cbd-4c9a-4094-8c04-5a2dab66004d"
      },
      "execution_count": null,
      "outputs": [
        {
          "output_type": "display_data",
          "data": {
            "text/plain": [
              "<IPython.core.display.Javascript object>"
            ],
            "application/javascript": [
              "\n",
              "    async function download(id, filename, size) {\n",
              "      if (!google.colab.kernel.accessAllowed) {\n",
              "        return;\n",
              "      }\n",
              "      const div = document.createElement('div');\n",
              "      const label = document.createElement('label');\n",
              "      label.textContent = `Downloading \"${filename}\": `;\n",
              "      div.appendChild(label);\n",
              "      const progress = document.createElement('progress');\n",
              "      progress.max = size;\n",
              "      div.appendChild(progress);\n",
              "      document.body.appendChild(div);\n",
              "\n",
              "      const buffers = [];\n",
              "      let downloaded = 0;\n",
              "\n",
              "      const channel = await google.colab.kernel.comms.open(id);\n",
              "      // Send a message to notify the kernel that we're ready.\n",
              "      channel.send({})\n",
              "\n",
              "      for await (const message of channel.messages) {\n",
              "        // Send a message to notify the kernel that we're ready.\n",
              "        channel.send({})\n",
              "        if (message.buffers) {\n",
              "          for (const buffer of message.buffers) {\n",
              "            buffers.push(buffer);\n",
              "            downloaded += buffer.byteLength;\n",
              "            progress.value = downloaded;\n",
              "          }\n",
              "        }\n",
              "      }\n",
              "      const blob = new Blob(buffers, {type: 'application/binary'});\n",
              "      const a = document.createElement('a');\n",
              "      a.href = window.URL.createObjectURL(blob);\n",
              "      a.download = filename;\n",
              "      div.appendChild(a);\n",
              "      a.click();\n",
              "      div.remove();\n",
              "    }\n",
              "  "
            ]
          },
          "metadata": {}
        },
        {
          "output_type": "display_data",
          "data": {
            "text/plain": [
              "<IPython.core.display.Javascript object>"
            ],
            "application/javascript": [
              "download(\"download_69ca5070-21ad-42fb-861f-4ee86545d215\", \"A playlist for night studies (Dark academia). [ZrKPW5d3idY].mp3\", 97268181)"
            ]
          },
          "metadata": {}
        }
      ]
    },
    {
      "cell_type": "code",
      "source": [
        "!yt-dlp -x --audio-format mp3 \"https://www.youtube.com/watch?v=l-2hOKIrIyI\" # 4 hour Lo-Fi"
      ],
      "metadata": {
        "colab": {
          "base_uri": "https://localhost:8080/"
        },
        "id": "Ut4Xz4teUuqp",
        "outputId": "e45e7da5-3b57-4108-a7b3-10f3097d3883"
      },
      "execution_count": null,
      "outputs": [
        {
          "output_type": "stream",
          "name": "stdout",
          "text": [
            "[youtube] Extracting URL: https://www.youtube.com/watch?v=l-2hOKIrIyI\n",
            "[youtube] l-2hOKIrIyI: Downloading webpage\n",
            "[youtube] l-2hOKIrIyI: Downloading tv client config\n",
            "[youtube] l-2hOKIrIyI: Downloading player ab11fe69-main\n",
            "[youtube] l-2hOKIrIyI: Downloading tv player API JSON\n",
            "[youtube] l-2hOKIrIyI: Downloading ios player API JSON\n",
            "[youtube] l-2hOKIrIyI: Downloading m3u8 information\n",
            "[info] l-2hOKIrIyI: Downloading 1 format(s): 251\n",
            "[download] Destination: 4 HOURS STUDY GIRL - Cozy lofi music and rain in background [l-2hOKIrIyI].webm\n",
            "\u001b[K[download] 100% of  216.85MiB in \u001b[1;37m00:00:12\u001b[0m at \u001b[0;32m17.69MiB/s\u001b[0m\n",
            "[ExtractAudio] Destination: 4 HOURS STUDY GIRL - Cozy lofi music and rain in background [l-2hOKIrIyI].mp3\n",
            "Deleting original file 4 HOURS STUDY GIRL - Cozy lofi music and rain in background [l-2hOKIrIyI].webm (pass -k to keep)\n"
          ]
        }
      ]
    },
    {
      "cell_type": "code",
      "source": [
        "!ls"
      ],
      "metadata": {
        "colab": {
          "base_uri": "https://localhost:8080/"
        },
        "id": "zbV_ZsfEUunB",
        "outputId": "cbe1f4fe-057f-482d-87a0-a2a5ad847324"
      },
      "execution_count": null,
      "outputs": [
        {
          "output_type": "stream",
          "name": "stdout",
          "text": [
            "'4 HOURS STUDY GIRL - Cozy lofi music and rain in background [l-2hOKIrIyI].mp3'\n",
            " sample_data\n"
          ]
        }
      ]
    },
    {
      "cell_type": "code",
      "source": [
        "from google.colab import files\n",
        "files.download(\"4 HOURS STUDY GIRL - Cozy lofi music and rain in background [l-2hOKIrIyI].mp3\")"
      ],
      "metadata": {
        "colab": {
          "base_uri": "https://localhost:8080/",
          "height": 17
        },
        "id": "MHfx6issUujo",
        "outputId": "c535244c-733f-46ed-848d-8ee083148eb3"
      },
      "execution_count": null,
      "outputs": [
        {
          "output_type": "display_data",
          "data": {
            "text/plain": [
              "<IPython.core.display.Javascript object>"
            ],
            "application/javascript": [
              "\n",
              "    async function download(id, filename, size) {\n",
              "      if (!google.colab.kernel.accessAllowed) {\n",
              "        return;\n",
              "      }\n",
              "      const div = document.createElement('div');\n",
              "      const label = document.createElement('label');\n",
              "      label.textContent = `Downloading \"${filename}\": `;\n",
              "      div.appendChild(label);\n",
              "      const progress = document.createElement('progress');\n",
              "      progress.max = size;\n",
              "      div.appendChild(progress);\n",
              "      document.body.appendChild(div);\n",
              "\n",
              "      const buffers = [];\n",
              "      let downloaded = 0;\n",
              "\n",
              "      const channel = await google.colab.kernel.comms.open(id);\n",
              "      // Send a message to notify the kernel that we're ready.\n",
              "      channel.send({})\n",
              "\n",
              "      for await (const message of channel.messages) {\n",
              "        // Send a message to notify the kernel that we're ready.\n",
              "        channel.send({})\n",
              "        if (message.buffers) {\n",
              "          for (const buffer of message.buffers) {\n",
              "            buffers.push(buffer);\n",
              "            downloaded += buffer.byteLength;\n",
              "            progress.value = downloaded;\n",
              "          }\n",
              "        }\n",
              "      }\n",
              "      const blob = new Blob(buffers, {type: 'application/binary'});\n",
              "      const a = document.createElement('a');\n",
              "      a.href = window.URL.createObjectURL(blob);\n",
              "      a.download = filename;\n",
              "      div.appendChild(a);\n",
              "      a.click();\n",
              "      div.remove();\n",
              "    }\n",
              "  "
            ]
          },
          "metadata": {}
        },
        {
          "output_type": "display_data",
          "data": {
            "text/plain": [
              "<IPython.core.display.Javascript object>"
            ],
            "application/javascript": [
              "download(\"download_abd9d6ba-bace-4ec4-803b-528097f3e084\", \"4 HOURS STUDY GIRL - Cozy lofi music and rain in background [l-2hOKIrIyI].mp3\", 201216165)"
            ]
          },
          "metadata": {}
        }
      ]
    },
    {
      "cell_type": "code",
      "source": [
        "!yt-dlp -x --audio-format mp3 \"https://www.youtube.com/watch?v=4fezP875xOQ\" # 4 hour- classical (chopin)"
      ],
      "metadata": {
        "colab": {
          "base_uri": "https://localhost:8080/"
        },
        "id": "kabncLjWUugx",
        "outputId": "158d0c2f-6e49-4cb2-e1ab-15d2e757a177"
      },
      "execution_count": null,
      "outputs": [
        {
          "output_type": "stream",
          "name": "stdout",
          "text": [
            "[youtube] Extracting URL: https://www.youtube.com/watch?v=4fezP875xOQ\n",
            "[youtube] 4fezP875xOQ: Downloading webpage\n",
            "[youtube] 4fezP875xOQ: Downloading tv client config\n",
            "[youtube] 4fezP875xOQ: Downloading tv player API JSON\n",
            "[youtube] 4fezP875xOQ: Downloading ios player API JSON\n",
            "[youtube] 4fezP875xOQ: Downloading m3u8 information\n",
            "[info] 4fezP875xOQ: Downloading 1 format(s): 251\n",
            "[download] Destination: 4 Hours Chopin for Studying, Concentration & Relaxation [4fezP875xOQ].webm\n",
            "\u001b[K[download] 100% of  253.30MiB in \u001b[1;37m00:00:11\u001b[0m at \u001b[0;32m22.94MiB/s\u001b[0m\n",
            "[ExtractAudio] Destination: 4 Hours Chopin for Studying, Concentration & Relaxation [4fezP875xOQ].mp3\n",
            "Deleting original file 4 Hours Chopin for Studying, Concentration & Relaxation [4fezP875xOQ].webm (pass -k to keep)\n"
          ]
        }
      ]
    },
    {
      "cell_type": "code",
      "source": [
        "!ls"
      ],
      "metadata": {
        "colab": {
          "base_uri": "https://localhost:8080/"
        },
        "id": "bynlYBTmUudZ",
        "outputId": "34035dd7-b506-4937-8e7d-c903ef8deb36"
      },
      "execution_count": null,
      "outputs": [
        {
          "output_type": "stream",
          "name": "stdout",
          "text": [
            "'4 Hours Chopin for Studying, Concentration & Relaxation [4fezP875xOQ].mp3'\n",
            "'4 HOURS STUDY GIRL - Cozy lofi music and rain in background [l-2hOKIrIyI].mp3'\n",
            " sample_data\n"
          ]
        }
      ]
    },
    {
      "cell_type": "code",
      "source": [
        "from google.colab import files\n",
        "files.download(\"4 Hours Chopin for Studying, Concentration & Relaxation [4fezP875xOQ].mp3\")"
      ],
      "metadata": {
        "colab": {
          "base_uri": "https://localhost:8080/",
          "height": 17
        },
        "id": "DysM9YogVebO",
        "outputId": "4997e0c1-3c56-4eba-ac6c-91b1c5d6a88a"
      },
      "execution_count": null,
      "outputs": [
        {
          "output_type": "display_data",
          "data": {
            "text/plain": [
              "<IPython.core.display.Javascript object>"
            ],
            "application/javascript": [
              "\n",
              "    async function download(id, filename, size) {\n",
              "      if (!google.colab.kernel.accessAllowed) {\n",
              "        return;\n",
              "      }\n",
              "      const div = document.createElement('div');\n",
              "      const label = document.createElement('label');\n",
              "      label.textContent = `Downloading \"${filename}\": `;\n",
              "      div.appendChild(label);\n",
              "      const progress = document.createElement('progress');\n",
              "      progress.max = size;\n",
              "      div.appendChild(progress);\n",
              "      document.body.appendChild(div);\n",
              "\n",
              "      const buffers = [];\n",
              "      let downloaded = 0;\n",
              "\n",
              "      const channel = await google.colab.kernel.comms.open(id);\n",
              "      // Send a message to notify the kernel that we're ready.\n",
              "      channel.send({})\n",
              "\n",
              "      for await (const message of channel.messages) {\n",
              "        // Send a message to notify the kernel that we're ready.\n",
              "        channel.send({})\n",
              "        if (message.buffers) {\n",
              "          for (const buffer of message.buffers) {\n",
              "            buffers.push(buffer);\n",
              "            downloaded += buffer.byteLength;\n",
              "            progress.value = downloaded;\n",
              "          }\n",
              "        }\n",
              "      }\n",
              "      const blob = new Blob(buffers, {type: 'application/binary'});\n",
              "      const a = document.createElement('a');\n",
              "      a.href = window.URL.createObjectURL(blob);\n",
              "      a.download = filename;\n",
              "      div.appendChild(a);\n",
              "      a.click();\n",
              "      div.remove();\n",
              "    }\n",
              "  "
            ]
          },
          "metadata": {}
        },
        {
          "output_type": "display_data",
          "data": {
            "text/plain": [
              "<IPython.core.display.Javascript object>"
            ],
            "application/javascript": [
              "download(\"download_a1c8eafc-8409-4921-8adc-a80f5897b741\", \"4 Hours Chopin for Studying, Concentration & Relaxation [4fezP875xOQ].mp3\", 161761725)"
            ]
          },
          "metadata": {}
        }
      ]
    },
    {
      "cell_type": "code",
      "source": [
        "!yt-dlp -x --audio-format mp3 \"https://www.youtube.com/watch?v=iFeg7F2q-PU\" # Lo-fi - 2:42 chill drums"
      ],
      "metadata": {
        "colab": {
          "base_uri": "https://localhost:8080/"
        },
        "id": "K1KDw9yVV55R",
        "outputId": "8dab05e3-db5e-4f19-c9a0-3517cd3f630a"
      },
      "execution_count": null,
      "outputs": [
        {
          "output_type": "stream",
          "name": "stdout",
          "text": [
            "[youtube] Extracting URL: https://www.youtube.com/watch?v=iFeg7F2q-PU\n",
            "[youtube] iFeg7F2q-PU: Downloading webpage\n",
            "[youtube] iFeg7F2q-PU: Downloading tv client config\n",
            "[youtube] iFeg7F2q-PU: Downloading tv player API JSON\n",
            "[youtube] iFeg7F2q-PU: Downloading ios player API JSON\n",
            "[youtube] iFeg7F2q-PU: Downloading m3u8 information\n",
            "[info] iFeg7F2q-PU: Downloading 1 format(s): 251\n",
            "[download] Destination: Chill Liquid Drum and Bass Mix #3 [iFeg7F2q-PU].webm\n",
            "\u001b[K[download] 100% of  156.84MiB in \u001b[1;37m00:00:21\u001b[0m at \u001b[0;32m7.29MiB/s\u001b[0m\n",
            "[ExtractAudio] Destination: Chill Liquid Drum and Bass Mix #3 [iFeg7F2q-PU].mp3\n",
            "Deleting original file Chill Liquid Drum and Bass Mix #3 [iFeg7F2q-PU].webm (pass -k to keep)\n"
          ]
        }
      ]
    },
    {
      "cell_type": "code",
      "source": [
        "!ls"
      ],
      "metadata": {
        "colab": {
          "base_uri": "https://localhost:8080/"
        },
        "id": "jkYsRxfEV5zi",
        "outputId": "4ce834ed-a8ed-459f-ad7c-b9c4615bb740"
      },
      "execution_count": null,
      "outputs": [
        {
          "output_type": "stream",
          "name": "stdout",
          "text": [
            "'4 Hours Chopin for Studying, Concentration & Relaxation [4fezP875xOQ].mp3'\n",
            "'4 HOURS STUDY GIRL - Cozy lofi music and rain in background [l-2hOKIrIyI].mp3'\n",
            "'Chill Liquid Drum and Bass Mix #3 [iFeg7F2q-PU].mp3'\n",
            " sample_data\n"
          ]
        }
      ]
    },
    {
      "cell_type": "code",
      "source": [
        "from google.colab import files\n",
        "files.download(\"Chill Liquid Drum and Bass Mix #3 [iFeg7F2q-PU].mp3\")"
      ],
      "metadata": {
        "colab": {
          "base_uri": "https://localhost:8080/",
          "height": 17
        },
        "id": "NMxGic52V5wq",
        "outputId": "0c11ce55-e792-4231-ee5a-0ca28b91f3e6"
      },
      "execution_count": null,
      "outputs": [
        {
          "output_type": "display_data",
          "data": {
            "text/plain": [
              "<IPython.core.display.Javascript object>"
            ],
            "application/javascript": [
              "\n",
              "    async function download(id, filename, size) {\n",
              "      if (!google.colab.kernel.accessAllowed) {\n",
              "        return;\n",
              "      }\n",
              "      const div = document.createElement('div');\n",
              "      const label = document.createElement('label');\n",
              "      label.textContent = `Downloading \"${filename}\": `;\n",
              "      div.appendChild(label);\n",
              "      const progress = document.createElement('progress');\n",
              "      progress.max = size;\n",
              "      div.appendChild(progress);\n",
              "      document.body.appendChild(div);\n",
              "\n",
              "      const buffers = [];\n",
              "      let downloaded = 0;\n",
              "\n",
              "      const channel = await google.colab.kernel.comms.open(id);\n",
              "      // Send a message to notify the kernel that we're ready.\n",
              "      channel.send({})\n",
              "\n",
              "      for await (const message of channel.messages) {\n",
              "        // Send a message to notify the kernel that we're ready.\n",
              "        channel.send({})\n",
              "        if (message.buffers) {\n",
              "          for (const buffer of message.buffers) {\n",
              "            buffers.push(buffer);\n",
              "            downloaded += buffer.byteLength;\n",
              "            progress.value = downloaded;\n",
              "          }\n",
              "        }\n",
              "      }\n",
              "      const blob = new Blob(buffers, {type: 'application/binary'});\n",
              "      const a = document.createElement('a');\n",
              "      a.href = window.URL.createObjectURL(blob);\n",
              "      a.download = filename;\n",
              "      div.appendChild(a);\n",
              "      a.click();\n",
              "      div.remove();\n",
              "    }\n",
              "  "
            ]
          },
          "metadata": {}
        },
        {
          "output_type": "display_data",
          "data": {
            "text/plain": [
              "<IPython.core.display.Javascript object>"
            ],
            "application/javascript": [
              "download(\"download_2ab9fa38-b138-4dc1-874c-7185c22a7787\", \"Chill Liquid Drum and Bass Mix #3 [iFeg7F2q-PU].mp3\", 163406781)"
            ]
          },
          "metadata": {}
        }
      ]
    },
    {
      "cell_type": "code",
      "source": [],
      "metadata": {
        "id": "hQwKIRJnV5t2"
      },
      "execution_count": null,
      "outputs": []
    }
  ]
}