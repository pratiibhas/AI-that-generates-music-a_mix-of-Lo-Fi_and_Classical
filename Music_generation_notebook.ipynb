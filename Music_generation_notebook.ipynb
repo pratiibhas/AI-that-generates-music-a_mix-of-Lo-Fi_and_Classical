{
 "cells": [
  {
   "cell_type": "markdown",
   "id": "ee270f47",
   "metadata": {},
   "source": [
    "# AI That Makes music,  Classical + Lo-Fi Beats"
   ]
  },
  {
   "cell_type": "code",
   "execution_count": 3,
   "id": "65411088",
   "metadata": {},
   "outputs": [
    {
     "data": {
      "text/plain": [
       "\"Audio is a time-series signal — it's just a stream of numbers representing air pressure (sound waves) sampled at regular intervals.\\n\\nFor example, a 44.1 kHz .mp3 or .wav file means:\\n👉 44,100 numbers (samples) per second.\""
      ]
     },
     "execution_count": 3,
     "metadata": {},
     "output_type": "execute_result"
    }
   ],
   "source": [
    "'''Audio is a time-series signal — it's just a stream of numbers representing air pressure (sound waves) sampled at regular intervals.\n",
    "\n",
    "For example, a 44.1 kHz .mp3 or .wav file means:\n",
    "👉 44,100 numbers (samples) per second.'''"
   ]
  },
  {
   "cell_type": "markdown",
   "id": "20e3a18a",
   "metadata": {},
   "source": [
    "## Data Pipeline\n",
    "1. Data Collection\n",
    "2. Preprocessing\n",
    "3. Feature Extraction\n",
    "4. Model Design\n",
    "5. Training the Model\n",
    "6. Generation (Inference)\n",
    "7. Post-processing\n",
    "8. Evaluation & Output\n"
   ]
  },
  {
   "cell_type": "code",
   "execution_count": 1,
   "id": "ee485252",
   "metadata": {},
   "outputs": [],
   "source": [
    "import soundfile as sf\n",
    "import numpy as np\n",
    "import librosa\n",
    "import os\n",
    "import glob\n",
    "import pandas as pd\n",
    "import matplotlib.pyplot as plt\n",
    "import librosa.display"
   ]
  },
  {
   "cell_type": "markdown",
   "id": "d3851bce",
   "metadata": {},
   "source": [
    "### 1. Data collection"
   ]
  },
  {
   "cell_type": "code",
   "execution_count": null,
   "id": "902a336c",
   "metadata": {},
   "outputs": [],
   "source": [
    "import zipfile\n",
    "import os\n",
    "\n",
    "# Step 1: Unzip the file\n",
    "zip_path = '/Users/pratiibhas/Documents/Deep Learning/Projects/music.zip'  # Replace with your zip filename\n",
    "extract_dir = 'extracted_audio'  # Folder to extract to\n",
    "\n",
    "with zipfile.ZipFile(zip_path, 'r') as zip_ref:\n",
    "    zip_ref.extractall(extract_dir)\n",
    "\n",
    "# Step 2: Find the audio file inside the extracted folder\n",
    "# Assuming there is only one audio file\n",
    "audio_file = None\n",
    "for file in os.listdir(extract_dir):\n",
    "    if file.endswith('.mp3') or file.endswith('.wav'):\n",
    "        audio_file = os.path.join(extract_dir, file)\n",
    "        break\n"
   ]
  },
  {
   "cell_type": "code",
   "execution_count": null,
   "id": "83236b38",
   "metadata": {},
   "outputs": [],
   "source": [
    "folder_path = '/Users/pratiibhas/Documents/Deep Learning/Projects/extracted_audio/music'  # Update this with the actual folder name\n",
    "audio_file = None\n",
    "\n",
    "# Step 1: Loop over the files and pick one\n",
    "for file in os.listdir(folder_path):\n",
    "    if file.endswith('.mp3') or file.endswith('.wav'):\n",
    "        audio_file = os.path.join(folder_path, file)\n",
    "        break  # load only the first audio file\n",
    "\n",
    "# Step 2: Load the audio\n",
    "audio, sr = librosa.load(audio_file, sr=None)\n",
    "print(\"Sample rate:\", sr)\n",
    "print(\"Audio shape:\", audio.shape)\n"
   ]
  },
  {
   "cell_type": "markdown",
   "id": "f948fa29",
   "metadata": {},
   "source": [
    "### 2. Data Preprocessing"
   ]
  },
  {
   "cell_type": "code",
   "execution_count": null,
   "id": "fbfd68b1",
   "metadata": {},
   "outputs": [],
   "source": [
    "# Parameters\n",
    "input_folder = \"extracted_audio/music\"\n",
    "output_folder = \"split_clips\"\n",
    "clip_duration = 30  # in seconds\n",
    "sample_rate = 22050  # standard for librosa, or use None to preserve original\n",
    "\n",
    "# Create the output directory if it doesn't exist\n",
    "os.makedirs(output_folder, exist_ok=True)\n",
    "\n",
    "# Loop through all audio files in the input folder\n",
    "for filename in os.listdir(input_folder):\n",
    "    if filename.lower().endswith(('.mp3', '.wav', '.flac', '.m4a', '.ogg')):\n",
    "        input_path = os.path.join(input_folder, filename)\n",
    "        print(f\"Processing: {filename}\")\n",
    "\n",
    "        # Load the audio\n",
    "        audio, sr = librosa.load(input_path, sr=sample_rate)\n",
    "        total_duration = librosa.get_duration(y=audio, sr=sr)\n",
    "        num_clips = int(total_duration // clip_duration)\n",
    "\n",
    "        # Output subfolder for each audio file\n",
    "        base_name = os.path.splitext(filename)[0]\n",
    "        file_output_folder = os.path.join(output_folder, base_name)\n",
    "        os.makedirs(file_output_folder, exist_ok=True)\n",
    "\n",
    "        # Split and save chunks\n",
    "        for i in range(num_clips):\n",
    "            start_sample = int(i * clip_duration * sr)\n",
    "            end_sample = int((i + 1) * clip_duration * sr)\n",
    "            clip = audio[start_sample:end_sample]\n",
    "\n",
    "            out_filename = f\"{base_name}_clip_{i+1:03d}.wav\"\n",
    "            out_path = os.path.join(file_output_folder, out_filename)\n",
    "            sf.write(out_path, clip, sr)\n",
    "\n",
    "        print(f\"Saved {num_clips} clips to {file_output_folder}\")\n"
   ]
  },
  {
   "cell_type": "markdown",
   "id": "1e71a345",
   "metadata": {},
   "source": [
    "### Whisper \n",
    " Whisper is a pre-trained model for automatic speech recognition (ASR) published in September 2022 by Alec Radford et al. from OpenAI.\n",
    " - First, the Whisper feature extractor pads/truncates a batch of audio examples such that all examples have an input length of 30s. Examples shorter than this are padded to 30s by appending zeros to the end of the sequence (zeros in an audio signal correspond to no signal or silence)\n",
    " - Whisper is trained to operate without an attention mask and infer directly from the speech signals where to ignore the inputs.\n",
    " - The second operation that the Whisper feature extractor performs is converting the padded audio arrays to log-mel spectrograms. As you recall, these spectrograms describe how the frequencies of a signal change over time, expressed on the mel scale and measured in decibels (the log part) to make the frequencies and amplitudes more representative of human hearing."
   ]
  },
  {
   "cell_type": "code",
   "execution_count": 4,
   "id": "ce292200",
   "metadata": {},
   "outputs": [],
   "source": [
    "from transformers import WhisperFeatureExtractor\n",
    "\n",
    "feature_extractor = WhisperFeatureExtractor.from_pretrained(\"openai/whisper-small\")"
   ]
  },
  {
   "cell_type": "code",
   "execution_count": 5,
   "id": "1c1aec2e",
   "metadata": {},
   "outputs": [
    {
     "name": "stdout",
     "output_type": "stream",
     "text": [
      "Found 1742 audio files.\n",
      "Successfully loaded 1742 audio examples.\n"
     ]
    }
   ],
   "source": [
    "# 1. Get all .wav file paths\n",
    "split_clips_path = \"extracted_audio/split_clips\"\n",
    "audio_file_paths = glob.glob(os.path.join(split_clips_path, \"**\", \"*.wav\"), recursive=True)\n",
    "print(f\"Found {len(audio_file_paths)} audio files.\")\n",
    "\n",
    "# 2. Create initial DataFrame with file paths\n",
    "df = pd.DataFrame(audio_file_paths, columns=[\"file_path\"])\n",
    "\n",
    "# 3. Define a function to extract audio features\n",
    "def extract_audio_features(path):\n",
    "    try:\n",
    "        y, sr = librosa.load(path, sr=16000)  # Force to 16kHz\n",
    "        duration = librosa.get_duration(y=y, sr=sr)\n",
    "        tempo, _ = librosa.beat.beat_track(y=y, sr=sr)\n",
    "        return pd.Series({\n",
    "            \"waveform\": y,\n",
    "            \"sample_rate\": sr,\n",
    "            \"duration\": duration,\n",
    "            \"tempo\": tempo\n",
    "        })\n",
    "    except Exception as e:\n",
    "        print(f\"Failed to process {path}: {e}\")\n",
    "        return pd.Series({\n",
    "            \"waveform\": None,\n",
    "            \"sample_rate\": None,\n",
    "            \"duration\": None,\n",
    "            \"tempo\": None\n",
    "        })\n",
    "\n",
    "# 4. Apply the function to all file paths\n",
    "df = df.join(df[\"file_path\"].apply(extract_audio_features))\n",
    "\n",
    "# Optional: drop rows that failed to load\n",
    "df = df.dropna(subset=[\"waveform\"])\n",
    "print(f\"Successfully loaded {len(df)} audio examples.\")\n"
   ]
  },
  {
   "cell_type": "code",
   "execution_count": 6,
   "id": "a296fb8e",
   "metadata": {},
   "outputs": [],
   "source": [
    "# updating fiile_path to filename\n",
    "df['filename'] = df['file_path'].apply(os.path.basename)"
   ]
  },
  {
   "cell_type": "code",
   "execution_count": 7,
   "id": "6cc00db1",
   "metadata": {},
   "outputs": [],
   "source": [
    "d = df.copy()"
   ]
  },
  {
   "cell_type": "code",
   "execution_count": 8,
   "id": "f7aa5df1",
   "metadata": {},
   "outputs": [
    {
     "data": {
      "text/html": [
       "<div>\n",
       "<style scoped>\n",
       "    .dataframe tbody tr th:only-of-type {\n",
       "        vertical-align: middle;\n",
       "    }\n",
       "\n",
       "    .dataframe tbody tr th {\n",
       "        vertical-align: top;\n",
       "    }\n",
       "\n",
       "    .dataframe thead th {\n",
       "        text-align: right;\n",
       "    }\n",
       "</style>\n",
       "<table border=\"1\" class=\"dataframe\">\n",
       "  <thead>\n",
       "    <tr style=\"text-align: right;\">\n",
       "      <th></th>\n",
       "      <th>waveform</th>\n",
       "      <th>sample_rate</th>\n",
       "      <th>duration</th>\n",
       "      <th>tempo</th>\n",
       "      <th>filename</th>\n",
       "    </tr>\n",
       "  </thead>\n",
       "  <tbody>\n",
       "    <tr>\n",
       "      <th>0</th>\n",
       "      <td>[0.0643428, 0.07880117, 0.0634036, 0.06240833,...</td>\n",
       "      <td>16000</td>\n",
       "      <td>30.0</td>\n",
       "      <td>[93.75]</td>\n",
       "      <td>A playlist for night studies (Dark academia). ...</td>\n",
       "    </tr>\n",
       "    <tr>\n",
       "      <th>1</th>\n",
       "      <td>[0.039544873, 0.0454032, 0.03786669, 0.0439170...</td>\n",
       "      <td>16000</td>\n",
       "      <td>30.0</td>\n",
       "      <td>[72.11538461538461]</td>\n",
       "      <td>A playlist for night studies (Dark academia). ...</td>\n",
       "    </tr>\n",
       "    <tr>\n",
       "      <th>2</th>\n",
       "      <td>[-0.09799327, -0.14246145, -0.1415363, -0.1585...</td>\n",
       "      <td>16000</td>\n",
       "      <td>30.0</td>\n",
       "      <td>[144.23076923076923]</td>\n",
       "      <td>A playlist for night studies (Dark academia). ...</td>\n",
       "    </tr>\n",
       "    <tr>\n",
       "      <th>3</th>\n",
       "      <td>[0.10783974, 0.14387067, 0.13118747, 0.1398961...</td>\n",
       "      <td>16000</td>\n",
       "      <td>30.0</td>\n",
       "      <td>[125.0]</td>\n",
       "      <td>A playlist for night studies (Dark academia). ...</td>\n",
       "    </tr>\n",
       "    <tr>\n",
       "      <th>4</th>\n",
       "      <td>[0.012674425, 0.017099608, 0.016961852, 0.0196...</td>\n",
       "      <td>16000</td>\n",
       "      <td>30.0</td>\n",
       "      <td>[117.1875]</td>\n",
       "      <td>A playlist for night studies (Dark academia). ...</td>\n",
       "    </tr>\n",
       "    <tr>\n",
       "      <th>...</th>\n",
       "      <td>...</td>\n",
       "      <td>...</td>\n",
       "      <td>...</td>\n",
       "      <td>...</td>\n",
       "      <td>...</td>\n",
       "    </tr>\n",
       "    <tr>\n",
       "      <th>1737</th>\n",
       "      <td>[-0.058558736, -0.07241667, -0.047160856, -0.0...</td>\n",
       "      <td>16000</td>\n",
       "      <td>30.0</td>\n",
       "      <td>[81.52173913043478]</td>\n",
       "      <td>4 HOURS STUDY GIRL - Cozy lofi music and rain ...</td>\n",
       "    </tr>\n",
       "    <tr>\n",
       "      <th>1738</th>\n",
       "      <td>[0.0052626217, 0.0062353956, 0.02467797, 0.032...</td>\n",
       "      <td>16000</td>\n",
       "      <td>30.0</td>\n",
       "      <td>[81.52173913043478]</td>\n",
       "      <td>11 Acorn Lane - Mellow Mouser [Lofi Chillhop] ...</td>\n",
       "    </tr>\n",
       "    <tr>\n",
       "      <th>1739</th>\n",
       "      <td>[-8.1356856e-13, -1.1424363e-13, -1.3312115e-1...</td>\n",
       "      <td>16000</td>\n",
       "      <td>30.0</td>\n",
       "      <td>[81.52173913043478]</td>\n",
       "      <td>11 Acorn Lane - Mellow Mouser [Lofi Chillhop] ...</td>\n",
       "    </tr>\n",
       "    <tr>\n",
       "      <th>1740</th>\n",
       "      <td>[0.073633134, 0.07453435, 0.06627098, 0.080649...</td>\n",
       "      <td>16000</td>\n",
       "      <td>30.0</td>\n",
       "      <td>[156.25]</td>\n",
       "      <td>11 Acorn Lane - Mellow Mouser [Lofi Chillhop] ...</td>\n",
       "    </tr>\n",
       "    <tr>\n",
       "      <th>1741</th>\n",
       "      <td>[-0.0884702, -0.10470387, -0.08290724, -0.0737...</td>\n",
       "      <td>16000</td>\n",
       "      <td>30.0</td>\n",
       "      <td>[156.25]</td>\n",
       "      <td>11 Acorn Lane - Mellow Mouser [Lofi Chillhop] ...</td>\n",
       "    </tr>\n",
       "  </tbody>\n",
       "</table>\n",
       "<p>1742 rows × 5 columns</p>\n",
       "</div>"
      ],
      "text/plain": [
       "                                               waveform  sample_rate  \\\n",
       "0     [0.0643428, 0.07880117, 0.0634036, 0.06240833,...        16000   \n",
       "1     [0.039544873, 0.0454032, 0.03786669, 0.0439170...        16000   \n",
       "2     [-0.09799327, -0.14246145, -0.1415363, -0.1585...        16000   \n",
       "3     [0.10783974, 0.14387067, 0.13118747, 0.1398961...        16000   \n",
       "4     [0.012674425, 0.017099608, 0.016961852, 0.0196...        16000   \n",
       "...                                                 ...          ...   \n",
       "1737  [-0.058558736, -0.07241667, -0.047160856, -0.0...        16000   \n",
       "1738  [0.0052626217, 0.0062353956, 0.02467797, 0.032...        16000   \n",
       "1739  [-8.1356856e-13, -1.1424363e-13, -1.3312115e-1...        16000   \n",
       "1740  [0.073633134, 0.07453435, 0.06627098, 0.080649...        16000   \n",
       "1741  [-0.0884702, -0.10470387, -0.08290724, -0.0737...        16000   \n",
       "\n",
       "      duration                 tempo  \\\n",
       "0         30.0               [93.75]   \n",
       "1         30.0   [72.11538461538461]   \n",
       "2         30.0  [144.23076923076923]   \n",
       "3         30.0               [125.0]   \n",
       "4         30.0            [117.1875]   \n",
       "...        ...                   ...   \n",
       "1737      30.0   [81.52173913043478]   \n",
       "1738      30.0   [81.52173913043478]   \n",
       "1739      30.0   [81.52173913043478]   \n",
       "1740      30.0              [156.25]   \n",
       "1741      30.0              [156.25]   \n",
       "\n",
       "                                               filename  \n",
       "0     A playlist for night studies (Dark academia). ...  \n",
       "1     A playlist for night studies (Dark academia). ...  \n",
       "2     A playlist for night studies (Dark academia). ...  \n",
       "3     A playlist for night studies (Dark academia). ...  \n",
       "4     A playlist for night studies (Dark academia). ...  \n",
       "...                                                 ...  \n",
       "1737  4 HOURS STUDY GIRL - Cozy lofi music and rain ...  \n",
       "1738  11 Acorn Lane - Mellow Mouser [Lofi Chillhop] ...  \n",
       "1739  11 Acorn Lane - Mellow Mouser [Lofi Chillhop] ...  \n",
       "1740  11 Acorn Lane - Mellow Mouser [Lofi Chillhop] ...  \n",
       "1741  11 Acorn Lane - Mellow Mouser [Lofi Chillhop] ...  \n",
       "\n",
       "[1742 rows x 5 columns]"
      ]
     },
     "execution_count": 8,
     "metadata": {},
     "output_type": "execute_result"
    }
   ],
   "source": [
    "d = d.drop('file_path', axis=1)\n",
    "d"
   ]
  },
  {
   "cell_type": "code",
   "execution_count": 9,
   "id": "36296510",
   "metadata": {},
   "outputs": [],
   "source": [
    "def extract_genre(file):\n",
    "    if \"classical\" in file.lower() or \"chopin\" in file.lower() or \"academia\" in file.lower() or \"night studies\" in file.lower():\n",
    "        return \"classical\"\n",
    "    elif \"lofi\" in file.lower() or \"chill\" in file.lower() or \"lo-fi\" in file.lower():\n",
    "        return \"lo-fi\"\n",
    "    else:\n",
    "        return \"unknown\"\n",
    "\n",
    "d[\"genre\"] = d[\"filename\"].apply(extract_genre)"
   ]
  },
  {
   "cell_type": "code",
   "execution_count": 10,
   "id": "24ed559b",
   "metadata": {},
   "outputs": [
    {
     "data": {
      "text/html": [
       "<div>\n",
       "<style scoped>\n",
       "    .dataframe tbody tr th:only-of-type {\n",
       "        vertical-align: middle;\n",
       "    }\n",
       "\n",
       "    .dataframe tbody tr th {\n",
       "        vertical-align: top;\n",
       "    }\n",
       "\n",
       "    .dataframe thead th {\n",
       "        text-align: right;\n",
       "    }\n",
       "</style>\n",
       "<table border=\"1\" class=\"dataframe\">\n",
       "  <thead>\n",
       "    <tr style=\"text-align: right;\">\n",
       "      <th></th>\n",
       "      <th>waveform</th>\n",
       "      <th>sample_rate</th>\n",
       "      <th>duration</th>\n",
       "      <th>tempo</th>\n",
       "      <th>filename</th>\n",
       "      <th>genre</th>\n",
       "    </tr>\n",
       "  </thead>\n",
       "  <tbody>\n",
       "    <tr>\n",
       "      <th>0</th>\n",
       "      <td>[0.0643428, 0.07880117, 0.0634036, 0.06240833,...</td>\n",
       "      <td>16000</td>\n",
       "      <td>30.0</td>\n",
       "      <td>[93.75]</td>\n",
       "      <td>A playlist for night studies (Dark academia). ...</td>\n",
       "      <td>classical</td>\n",
       "    </tr>\n",
       "    <tr>\n",
       "      <th>1</th>\n",
       "      <td>[0.039544873, 0.0454032, 0.03786669, 0.0439170...</td>\n",
       "      <td>16000</td>\n",
       "      <td>30.0</td>\n",
       "      <td>[72.11538461538461]</td>\n",
       "      <td>A playlist for night studies (Dark academia). ...</td>\n",
       "      <td>classical</td>\n",
       "    </tr>\n",
       "    <tr>\n",
       "      <th>2</th>\n",
       "      <td>[-0.09799327, -0.14246145, -0.1415363, -0.1585...</td>\n",
       "      <td>16000</td>\n",
       "      <td>30.0</td>\n",
       "      <td>[144.23076923076923]</td>\n",
       "      <td>A playlist for night studies (Dark academia). ...</td>\n",
       "      <td>classical</td>\n",
       "    </tr>\n",
       "    <tr>\n",
       "      <th>3</th>\n",
       "      <td>[0.10783974, 0.14387067, 0.13118747, 0.1398961...</td>\n",
       "      <td>16000</td>\n",
       "      <td>30.0</td>\n",
       "      <td>[125.0]</td>\n",
       "      <td>A playlist for night studies (Dark academia). ...</td>\n",
       "      <td>classical</td>\n",
       "    </tr>\n",
       "    <tr>\n",
       "      <th>4</th>\n",
       "      <td>[0.012674425, 0.017099608, 0.016961852, 0.0196...</td>\n",
       "      <td>16000</td>\n",
       "      <td>30.0</td>\n",
       "      <td>[117.1875]</td>\n",
       "      <td>A playlist for night studies (Dark academia). ...</td>\n",
       "      <td>classical</td>\n",
       "    </tr>\n",
       "    <tr>\n",
       "      <th>...</th>\n",
       "      <td>...</td>\n",
       "      <td>...</td>\n",
       "      <td>...</td>\n",
       "      <td>...</td>\n",
       "      <td>...</td>\n",
       "      <td>...</td>\n",
       "    </tr>\n",
       "    <tr>\n",
       "      <th>1737</th>\n",
       "      <td>[-0.058558736, -0.07241667, -0.047160856, -0.0...</td>\n",
       "      <td>16000</td>\n",
       "      <td>30.0</td>\n",
       "      <td>[81.52173913043478]</td>\n",
       "      <td>4 HOURS STUDY GIRL - Cozy lofi music and rain ...</td>\n",
       "      <td>lo-fi</td>\n",
       "    </tr>\n",
       "    <tr>\n",
       "      <th>1738</th>\n",
       "      <td>[0.0052626217, 0.0062353956, 0.02467797, 0.032...</td>\n",
       "      <td>16000</td>\n",
       "      <td>30.0</td>\n",
       "      <td>[81.52173913043478]</td>\n",
       "      <td>11 Acorn Lane - Mellow Mouser [Lofi Chillhop] ...</td>\n",
       "      <td>lo-fi</td>\n",
       "    </tr>\n",
       "    <tr>\n",
       "      <th>1739</th>\n",
       "      <td>[-8.1356856e-13, -1.1424363e-13, -1.3312115e-1...</td>\n",
       "      <td>16000</td>\n",
       "      <td>30.0</td>\n",
       "      <td>[81.52173913043478]</td>\n",
       "      <td>11 Acorn Lane - Mellow Mouser [Lofi Chillhop] ...</td>\n",
       "      <td>lo-fi</td>\n",
       "    </tr>\n",
       "    <tr>\n",
       "      <th>1740</th>\n",
       "      <td>[0.073633134, 0.07453435, 0.06627098, 0.080649...</td>\n",
       "      <td>16000</td>\n",
       "      <td>30.0</td>\n",
       "      <td>[156.25]</td>\n",
       "      <td>11 Acorn Lane - Mellow Mouser [Lofi Chillhop] ...</td>\n",
       "      <td>lo-fi</td>\n",
       "    </tr>\n",
       "    <tr>\n",
       "      <th>1741</th>\n",
       "      <td>[-0.0884702, -0.10470387, -0.08290724, -0.0737...</td>\n",
       "      <td>16000</td>\n",
       "      <td>30.0</td>\n",
       "      <td>[156.25]</td>\n",
       "      <td>11 Acorn Lane - Mellow Mouser [Lofi Chillhop] ...</td>\n",
       "      <td>lo-fi</td>\n",
       "    </tr>\n",
       "  </tbody>\n",
       "</table>\n",
       "<p>1742 rows × 6 columns</p>\n",
       "</div>"
      ],
      "text/plain": [
       "                                               waveform  sample_rate  \\\n",
       "0     [0.0643428, 0.07880117, 0.0634036, 0.06240833,...        16000   \n",
       "1     [0.039544873, 0.0454032, 0.03786669, 0.0439170...        16000   \n",
       "2     [-0.09799327, -0.14246145, -0.1415363, -0.1585...        16000   \n",
       "3     [0.10783974, 0.14387067, 0.13118747, 0.1398961...        16000   \n",
       "4     [0.012674425, 0.017099608, 0.016961852, 0.0196...        16000   \n",
       "...                                                 ...          ...   \n",
       "1737  [-0.058558736, -0.07241667, -0.047160856, -0.0...        16000   \n",
       "1738  [0.0052626217, 0.0062353956, 0.02467797, 0.032...        16000   \n",
       "1739  [-8.1356856e-13, -1.1424363e-13, -1.3312115e-1...        16000   \n",
       "1740  [0.073633134, 0.07453435, 0.06627098, 0.080649...        16000   \n",
       "1741  [-0.0884702, -0.10470387, -0.08290724, -0.0737...        16000   \n",
       "\n",
       "      duration                 tempo  \\\n",
       "0         30.0               [93.75]   \n",
       "1         30.0   [72.11538461538461]   \n",
       "2         30.0  [144.23076923076923]   \n",
       "3         30.0               [125.0]   \n",
       "4         30.0            [117.1875]   \n",
       "...        ...                   ...   \n",
       "1737      30.0   [81.52173913043478]   \n",
       "1738      30.0   [81.52173913043478]   \n",
       "1739      30.0   [81.52173913043478]   \n",
       "1740      30.0              [156.25]   \n",
       "1741      30.0              [156.25]   \n",
       "\n",
       "                                               filename      genre  \n",
       "0     A playlist for night studies (Dark academia). ...  classical  \n",
       "1     A playlist for night studies (Dark academia). ...  classical  \n",
       "2     A playlist for night studies (Dark academia). ...  classical  \n",
       "3     A playlist for night studies (Dark academia). ...  classical  \n",
       "4     A playlist for night studies (Dark academia). ...  classical  \n",
       "...                                                 ...        ...  \n",
       "1737  4 HOURS STUDY GIRL - Cozy lofi music and rain ...      lo-fi  \n",
       "1738  11 Acorn Lane - Mellow Mouser [Lofi Chillhop] ...      lo-fi  \n",
       "1739  11 Acorn Lane - Mellow Mouser [Lofi Chillhop] ...      lo-fi  \n",
       "1740  11 Acorn Lane - Mellow Mouser [Lofi Chillhop] ...      lo-fi  \n",
       "1741  11 Acorn Lane - Mellow Mouser [Lofi Chillhop] ...      lo-fi  \n",
       "\n",
       "[1742 rows x 6 columns]"
      ]
     },
     "execution_count": 10,
     "metadata": {},
     "output_type": "execute_result"
    }
   ],
   "source": [
    "d"
   ]
  },
  {
   "cell_type": "code",
   "execution_count": 11,
   "id": "fe698e4e",
   "metadata": {},
   "outputs": [
    {
     "data": {
      "text/plain": [
       "genre\n",
       "classical    934\n",
       "lo-fi        808\n",
       "Name: count, dtype: int64"
      ]
     },
     "execution_count": 11,
     "metadata": {},
     "output_type": "execute_result"
    }
   ],
   "source": [
    "d['genre'].value_counts()"
   ]
  },
  {
   "cell_type": "markdown",
   "id": "6f114188",
   "metadata": {},
   "source": [
    "## Data Preparation"
   ]
  },
  {
   "cell_type": "code",
   "execution_count": 12,
   "id": "d2e2c186",
   "metadata": {},
   "outputs": [
    {
     "name": "stdout",
     "output_type": "stream",
     "text": [
      "<class 'pandas.core.frame.DataFrame'>\n",
      "RangeIndex: 1742 entries, 0 to 1741\n",
      "Data columns (total 6 columns):\n",
      " #   Column       Non-Null Count  Dtype  \n",
      "---  ------       --------------  -----  \n",
      " 0   waveform     1742 non-null   object \n",
      " 1   sample_rate  1742 non-null   int64  \n",
      " 2   duration     1742 non-null   float64\n",
      " 3   tempo        1742 non-null   object \n",
      " 4   filename     1742 non-null   object \n",
      " 5   genre        1742 non-null   object \n",
      "dtypes: float64(1), int64(1), object(4)\n",
      "memory usage: 81.8+ KB\n"
     ]
    }
   ],
   "source": [
    "d.info()"
   ]
  },
  {
   "cell_type": "code",
   "execution_count": null,
   "id": "6aebb018",
   "metadata": {},
   "outputs": [],
   "source": []
  },
  {
   "cell_type": "markdown",
   "id": "bddffc27",
   "metadata": {},
   "source": [
    "- duration should be a integer,also temp should be float"
   ]
  },
  {
   "cell_type": "code",
   "execution_count": 13,
   "id": "3a21c5a4",
   "metadata": {},
   "outputs": [],
   "source": [
    "# preprocessing waveform \n",
    "max_len = 16000 * 3  # e.g., pad/trim to 3 seconds at 16kHz\n",
    "\n",
    "def pad_or_trim(wave, length=max_len):\n",
    "    if wave is None:\n",
    "        return np.zeros(length, dtype=np.float32) # padding if clip is lesser than 30 seconds (length)\n",
    "    wave = np.asarray(wave, dtype=np.float32)\n",
    "    if len(wave) > length:\n",
    "        return wave[:length] # cutting th clip if clip is more than 30 seconds (length)\n",
    "    else:\n",
    "        return np.pad(wave, (0, length - len(wave)), mode='constant')\n",
    "\n",
    "d[\"waveform_fixed\"] = d[\"waveform\"].apply(pad_or_trim)\n"
   ]
  },
  {
   "cell_type": "markdown",
   "id": "6719bf7f",
   "metadata": {},
   "source": [
    "Though datatype of wavefoem is of type object but inside the value are of the type float32, which is the datatype needed. Same for tempo."
   ]
  },
  {
   "cell_type": "code",
   "execution_count": 14,
   "id": "720f196f",
   "metadata": {},
   "outputs": [
    {
     "name": "stdout",
     "output_type": "stream",
     "text": [
      "<class 'numpy.ndarray'>\n",
      "float32\n",
      "(48000,)\n"
     ]
    }
   ],
   "source": [
    "print(type(d[\"waveform_fixed\"].iloc[0]))\n",
    "print(d[\"waveform_fixed\"].iloc[0].dtype)\n",
    "print(d[\"waveform_fixed\"].iloc[0].shape)\n"
   ]
  },
  {
   "cell_type": "code",
   "execution_count": 15,
   "id": "ee3bb625",
   "metadata": {},
   "outputs": [
    {
     "name": "stdout",
     "output_type": "stream",
     "text": [
      "<class 'numpy.ndarray'>\n",
      "float64\n",
      "(1,)\n"
     ]
    }
   ],
   "source": [
    "print(type(d[\"tempo\"].iloc[0]))\n",
    "print(d[\"tempo\"].iloc[0].dtype)\n",
    "print(d[\"tempo\"].iloc[0].shape)\n"
   ]
  },
  {
   "cell_type": "code",
   "execution_count": 16,
   "id": "cbd77244",
   "metadata": {},
   "outputs": [
    {
     "data": {
      "image/png": "[encoded data removed]",
      "text/plain": [
       "<Figure size 1200x600 with 2 Axes>"
      ]
     },
     "metadata": {},
     "output_type": "display_data"
    }
   ],
   "source": [
    "# Get waveform and sampling rate\n",
    "wave = d[\"waveform_fixed\"].iloc[0]  # or any index\n",
    "sr = d[\"sample_rate\"].iloc[0]\n",
    "\n",
    "# Convert to Mel Spectrogram\n",
    "S = librosa.feature.melspectrogram(y=wave, sr=sr, n_fft=1024, hop_length=512, n_mels=128)\n",
    "S_dB = librosa.power_to_db(S, ref=np.max)\n",
    "\n",
    "# Plot\n",
    "plt.figure(figsize=(12, 6))\n",
    "librosa.display.specshow(S_dB, sr=sr, hop_length=512, x_axis='time', y_axis='mel')\n",
    "plt.colorbar(format=\"%+2.0f dB\")\n",
    "plt.title(\"Mel spectrogram\")\n",
    "plt.tight_layout()\n",
    "plt.show()\n",
    "\n"
   ]
  },
  {
   "cell_type": "markdown",
   "id": "85c4d19b",
   "metadata": {},
   "source": [
    "Now you can see what the audio input to the Whisper model looks like after preprocessing."
   ]
  },
  {
   "cell_type": "markdown",
   "id": "1be0bf38",
   "metadata": {},
   "source": [
    "## Feature extraction"
   ]
  },
  {
   "cell_type": "code",
   "execution_count": 17,
   "id": "6590a4fc",
   "metadata": {},
   "outputs": [
    {
     "data": {
      "text/plain": [
       "[0, 1]"
      ]
     },
     "execution_count": 17,
     "metadata": {},
     "output_type": "execute_result"
    }
   ],
   "source": [
    "# converting genre or file format  to a format our machine can understand\n",
    "def embed_prompt_manual(prompt):\n",
    "    prompt = prompt.lower()\n",
    "    vec = [0, 0]\n",
    "    if \"lofi\" in prompt:\n",
    "        vec[0] = 1\n",
    "    if \"classical\" in prompt:\n",
    "        vec[1] = 1\n",
    "    return vec\n",
    "prompt = \"A mix of lo-fi and classical for studying\"\n",
    "embed_prompt_manual(prompt)"
   ]
  },
  {
   "cell_type": "code",
   "execution_count": 18,
   "id": "eca463d0",
   "metadata": {},
   "outputs": [],
   "source": [
    "from transformers import AutoProcessor\n",
    "processor = AutoProcessor.from_pretrained(\"openai/whisper-small\")"
   ]
  },
  {
   "cell_type": "code",
   "execution_count": 19,
   "id": "40dfa61f",
   "metadata": {},
   "outputs": [],
   "source": [
    "# function to convert waveform to mel spectogram\n",
    "def waveform_to_mel(waveform, sr=16000, n_mels=80, hop_length=256, n_fft=1024):\n",
    "    waveform = np.array(waveform)\n",
    "    mel_spec = librosa.feature.melspectrogram(\n",
    "        y=waveform,\n",
    "        sr=sr,\n",
    "        n_mels=n_mels,\n",
    "        hop_length=hop_length,\n",
    "        n_fft=n_fft,\n",
    "        power=2.0,\n",
    "    )\n",
    "    mel_spec_db = librosa.power_to_db(mel_spec, ref=np.max)\n",
    "    return mel_spec_db  # shape: (n_mels, time_steps)"
   ]
  },
  {
   "cell_type": "code",
   "execution_count": 20,
   "id": "44badc24",
   "metadata": {},
   "outputs": [],
   "source": [
    "# Create a new column with Mel spectrograms\n",
    "d['mel_spectrogram'] = d['waveform_fixed'].apply(lambda x: waveform_to_mel(x, sr=16000))"
   ]
  },
  {
   "cell_type": "code",
   "execution_count": 21,
   "id": "f6802246",
   "metadata": {},
   "outputs": [],
   "source": [
    "def split_mel_segments(mel_spectrogram, segment_length=512, hop_size=256):\n",
    "    \"\"\"\n",
    "    Splits mel spectrogram into fixed-length segments.\n",
    "    \n",
    "    Parameters:\n",
    "        mel_spectrogram: np.ndarray (shape: [n_mels, time])\n",
    "        segment_length: int - desired number of frames per segment\n",
    "        hop_size: int - step between segments\n",
    "    \n",
    "    Returns:\n",
    "        segments: list of np.ndarray with shape [n_mels, segment_length]\n",
    "    \"\"\"\n",
    "    segments = []\n",
    "    n_mels, total_frames = mel_spectrogram.shape\n",
    "\n",
    "    # Pad if shorter than one segment\n",
    "    if total_frames < segment_length:\n",
    "        padded = np.pad(mel_spectrogram, ((0, 0), (0, segment_length - total_frames)), mode='constant')\n",
    "        segments.append(padded)\n",
    "        return segments\n",
    "\n",
    "    # Slide window\n",
    "    for start in range(0, total_frames - segment_length + 1, hop_size):\n",
    "        end = start + segment_length\n",
    "        segment = mel_spectrogram[:, start:end]\n",
    "        segments.append(segment)\n",
    "    \n",
    "    return segments\n"
   ]
  },
  {
   "cell_type": "code",
   "execution_count": 22,
   "id": "b3958cad",
   "metadata": {},
   "outputs": [],
   "source": [
    "# you can see  working example of previous function -split_mel_segments\n",
    "all_segments = []\n",
    "\n",
    "for mel in d['mel_spectrogram']:\n",
    "    segments = split_mel_segments(mel, segment_length=512, hop_size=256)\n",
    "    all_segments.extend(segments)\n"
   ]
  },
  {
   "cell_type": "code",
   "execution_count": 23,
   "id": "5ba4bcdc",
   "metadata": {},
   "outputs": [],
   "source": [
    "import torch\n",
    "import torch.nn as nn\n",
    "\n",
    "class AudioTransformer(nn.Module):\n",
    "    def __init__(self, input_dim=80, embed_dim=256, num_heads=4, num_layers=4, ff_dim=512, dropout=0.1):\n",
    "        super(AudioTransformer, self).__init__()\n",
    "        \n",
    "        self.input_proj = nn.Linear(input_dim, embed_dim)\n",
    "        self.pos_embed = nn.Parameter(torch.randn(1, 512, embed_dim))  # fixed sequence length\n",
    "        \n",
    "        encoder_layer = nn.TransformerEncoderLayer(d_model=embed_dim, nhead=num_heads, dim_feedforward=ff_dim, dropout=dropout, batch_first=True)\n",
    "        self.encoder = nn.TransformerEncoder(encoder_layer, num_layers=num_layers)\n",
    "        \n",
    "        self.pooling = nn.AdaptiveAvgPool1d(1)\n",
    "        self.classifier = nn.Linear(embed_dim, 128)  # 128 could be output dimension for next step (e.g., decoder or genre classifier)\n",
    "    \n",
    "    def forward(self, x):  # x: [batch, time, mel]\n",
    "        x = self.input_proj(x)  # [batch, time, embed_dim]\n",
    "        x = x + self.pos_embed[:, :x.size(1), :]  # Add positional encoding\n",
    "        x = self.encoder(x)  # [batch, time, embed_dim]\n",
    "        \n",
    "        x = x.mean(dim=1)  # global average pooling\n",
    "        out = self.classifier(x)  # [batch, output_dim]\n",
    "        return out\n"
   ]
  },
  {
   "cell_type": "markdown",
   "id": "b93e71e0",
   "metadata": {},
   "source": [
    "We're doing sequence-to-sequence generation, similar to how Transformers work in NLP:\n",
    "\n",
    "- Input: A mel spectrogram sequence (e.g. 512 frames)\n",
    "- Output: The next N mel frames (e.g. the next 128 frames)"
   ]
  },
  {
   "cell_type": "code",
   "execution_count": 24,
   "id": "8391e969",
   "metadata": {},
   "outputs": [],
   "source": [
    "import torch\n",
    "from torch.utils.data import Dataset\n",
    "\n",
    "class MelSpectrogramDataset(torch.utils.data.Dataset):\n",
    "    def __init__(self, df, segment_length=100):\n",
    "        self.samples = []  # Will store (input_mel, target_mel, cond_vec)\n",
    "\n",
    "        for idx, row in df.iterrows():\n",
    "            mel = waveform_to_mel(row[\"waveform\"])  # (n_frames, mel_dim)\n",
    "            segments = split_mel_segments(mel, segment_length=segment_length)\n",
    "            cond_vec = embed_prompt_manual(row['genre'])  \n",
    "\n",
    "\n",
    "            for segment in segments:\n",
    "                input_mel = segment[:-1]   # [segment_len - 1, mel_dim]\n",
    "                target_mel = segment[1:]   # [segment_len - 1, mel_dim]\n",
    "                self.samples.append((input_mel, target_mel, cond_vec))\n",
    "\n",
    "    def __len__(self):\n",
    "        return len(self.samples)\n",
    "\n",
    "    def __getitem__(self, idx):\n",
    "        input_mel, target_mel, cond_vec = self.samples[idx]\n",
    "        return (\n",
    "            torch.tensor(input_mel, dtype=torch.float32),      # [T-1, mel_dim]\n",
    "            torch.tensor(target_mel, dtype=torch.float32),     # [T-1, mel_dim]\n",
    "            torch.tensor(cond_vec, dtype=torch.float32),       # [cond_dim]\n",
    "        )\n",
    "\n"
   ]
  },
  {
   "cell_type": "code",
   "execution_count": 25,
   "id": "f30d2acb",
   "metadata": {},
   "outputs": [],
   "source": [
    "import torch\n",
    "import torch.nn as nn\n",
    "import torch.nn.functional as F\n",
    "\n",
    "class TransformerMelGenerator(nn.Module):\n",
    "    def __init__(self, input_dim=128, model_dim=256, num_heads=4, num_layers=4, ff_dim=512, dropout=0.1, max_len=640, cond_dim=128):\n",
    "        super().__init__()\n",
    "        self.input_proj = nn.Linear(input_dim, model_dim)\n",
    "        self.cond_proj = nn.Linear(cond_dim, model_dim)  # Project condition vector to model_dim\n",
    "        self.pos_embed = nn.Parameter(torch.randn(1, max_len, model_dim))\n",
    "        self.cond_dim = cond_dim\n",
    "        \n",
    "        encoder_layer = nn.TransformerEncoderLayer(\n",
    "            d_model=model_dim,\n",
    "            nhead=num_heads,\n",
    "            dim_feedforward=ff_dim,\n",
    "            dropout=dropout,\n",
    "            batch_first=True\n",
    "        )\n",
    "        self.encoder = nn.TransformerEncoder(encoder_layer, num_layers=num_layers)\n",
    "\n",
    "        decoder_layer = nn.TransformerDecoderLayer(\n",
    "            d_model=model_dim,\n",
    "            nhead=num_heads,\n",
    "            dim_feedforward=ff_dim,\n",
    "            dropout=dropout,\n",
    "            batch_first=True\n",
    "        )\n",
    "        self.decoder = nn.TransformerDecoder(decoder_layer, num_layers=num_layers)\n",
    "\n",
    "        self.output_proj = nn.Linear(model_dim, input_dim)\n",
    "\n",
    "    def forward(self, enc_input, dec_input, cond_vec):\n",
    "        \"\"\"\n",
    "        enc_input: [batch, enc_time, mel]\n",
    "        dec_input: [batch, dec_time, mel]\n",
    "        cond_vec: [batch, cond_dim]\n",
    "        \"\"\"\n",
    "        batch_size, enc_len, _ = enc_input.shape\n",
    "        _, dec_len, _ = dec_input.shape\n",
    "\n",
    "        # Project and expand the conditioning vector\n",
    "        cond_encoded = self.cond_proj(cond_vec)               # [batch, model_dim]\n",
    "        cond_encoded_enc = cond_encoded.unsqueeze(1).expand(-1, enc_len, -1)  # [batch, enc_len, model_dim]\n",
    "        cond_encoded_dec = cond_encoded.unsqueeze(1).expand(-1, dec_len, -1)  # [batch, dec_len, model_dim]\n",
    "\n",
    "        # Input projections + positional encoding + conditioning\n",
    "        enc = self.input_proj(enc_input) + self.pos_embed[:, :enc_len, :] + cond_encoded_enc\n",
    "        dec = self.input_proj(dec_input) + self.pos_embed[:, :dec_len, :] + cond_encoded_dec\n",
    "\n",
    "        # Encode\n",
    "        memory = self.encoder(enc)\n",
    "\n",
    "        # Create causal mask for decoder\n",
    "        tgt_mask = nn.Transformer.generate_square_subsequent_mask(dec_len).to(dec.device)\n",
    "\n",
    "        # Decode\n",
    "        out = self.decoder(dec, memory, tgt_mask=tgt_mask)\n",
    "\n",
    "        # Final projection to mel-spectrogram space\n",
    "        return self.output_proj(out)  # [batch, dec_time, mel]\n"
   ]
  },
  {
   "cell_type": "code",
   "execution_count": 26,
   "id": "a0e17d9b",
   "metadata": {},
   "outputs": [
    {
     "name": "stdout",
     "output_type": "stream",
     "text": [
      "128\n"
     ]
    }
   ],
   "source": [
    "model = TransformerMelGenerator()\n",
    "print(model.cond_dim) "
   ]
  },
  {
   "cell_type": "code",
   "execution_count": 27,
   "id": "3302e4a6",
   "metadata": {},
   "outputs": [
    {
     "name": "stdout",
     "output_type": "stream",
     "text": [
      "Epoch 1, Loss: 2351.5612\n",
      "Epoch 2, Loss: 1449.3472\n",
      "Epoch 3, Loss: 818.6099\n",
      "Epoch 4, Loss: 465.0778\n",
      "Epoch 5, Loss: 273.9354\n",
      "Epoch 6, Loss: 178.7903\n",
      "Epoch 7, Loss: 132.3486\n",
      "Epoch 8, Loss: 102.5876\n",
      "Epoch 9, Loss: 85.8843\n",
      "Epoch 10, Loss: 72.4981\n"
     ]
    }
   ],
   "source": [
    "# Training phase\n",
    "from torch.utils.data import DataLoader\n",
    "import torch.nn.functional as F\n",
    "import torch\n",
    "\n",
    "device = torch.device('cuda' if torch.cuda.is_available() else 'cpu')\n",
    "\n",
    "# Example cond_dim = 2 for one-hot genre embedding\n",
    "cond_dim = 2  # Update based on your embedding vector size\n",
    "\n",
    "# Prepare dataset and dataloader\n",
    "dataset = MelSpectrogramDataset(d, segment_length=128)\n",
    "dataloader = DataLoader(dataset, batch_size=32, shuffle=True)\n",
    "\n",
    "# Updated model with cond_dim\n",
    "model = TransformerMelGenerator(input_dim=128, cond_dim=cond_dim, model_dim=256, num_heads=4, num_layers=4, ff_dim=512, dropout=0.1, max_len=640)\n",
    "model = model.to(device)\n",
    "\n",
    "optimizer = torch.optim.Adam(model.parameters(), lr=1e-4)\n",
    "\n",
    "# Training loop\n",
    "for epoch in range(10):\n",
    "    model.train()\n",
    "    total_loss = 0.0\n",
    "\n",
    "    for src, tgt, cond_vec in dataloader:  # 🚨 Updated\n",
    "        src = src.to(device)                      # [batch, time, mel]\n",
    "        tgt = tgt.to(device)                      # [batch, time, mel]\n",
    "        cond_vec = cond_vec.to(device).float()    # [batch, cond_dim]\n",
    "\n",
    "        output = model(src, tgt[:, :-1, :], cond_vec)  # 🧠 Add cond_vec\n",
    "        loss = F.mse_loss(output, tgt[:, 1:, :])        # Predict next frame\n",
    "\n",
    "        optimizer.zero_grad()\n",
    "        loss.backward()\n",
    "        optimizer.step()\n",
    "\n",
    "        total_loss += loss.item()\n",
    "\n",
    "    avg_loss = total_loss / len(dataloader)\n",
    "    print(f\"Epoch {epoch + 1}, Loss: {avg_loss:.4f}\")\n",
    "\n"
   ]
  },
  {
   "cell_type": "code",
   "execution_count": 28,
   "id": "7dc44b37",
   "metadata": {},
   "outputs": [],
   "source": [
    "torch.save(model.state_dict(), \"model_checkpoint.pt\")"
   ]
  },
  {
   "cell_type": "code",
   "execution_count": 29,
   "id": "346270eb",
   "metadata": {},
   "outputs": [],
   "source": [
    "\n",
    "def generate_future_frames(model, mel_segment, cond_vec, predict_frames=128, device='cpu'):\n",
    "    \"\"\"\n",
    "    mel_segment: torch.Tensor, shape [n_mels, input_len] e.g. [80, 512]\n",
    "    \"\"\"\n",
    "    model.to(device)\n",
    "    model.eval()\n",
    "\n",
    "    input_len = mel_segment.shape[1]  # time dimension\n",
    "    mel_dim = mel_segment.shape[0]\n",
    "\n",
    "    # Prepare encoder input: transpose and add batch dimension [1, time, mel_dim]\n",
    "    enc_input = mel_segment.T.unsqueeze(0).to(device)  # [1, time, mel]\n",
    "\n",
    "    # Position embedding for encoder\n",
    "    if input_len > model.pos_embed.size(1):\n",
    "        pos_embed = torch.nn.functional.interpolate(\n",
    "            model.pos_embed.permute(0, 2, 1),\n",
    "            size=input_len,\n",
    "            mode='linear',\n",
    "            align_corners=False\n",
    "        ).permute(0, 2, 1)\n",
    "    else:\n",
    "        pos_embed = model.pos_embed[:, :input_len, :]\n",
    "\n",
    "    # Project encoder input with input_proj\n",
    "    # Check model.input_proj expects input_dim = mel_dim (e.g. 80)\n",
    "    enc_proj = model.input_proj(enc_input) + pos_embed  # [1, time, model_dim]\n",
    "\n",
    "    # Handle conditioning vector\n",
    "    if cond_vec is not None:\n",
    "        cond_vec = cond_vec.to(device).float()\n",
    "        if cond_vec.dim() == 1:\n",
    "            cond_vec = cond_vec.unsqueeze(0)  # [1, cond_dim]\n",
    "        cond_vec = cond_vec.unsqueeze(1).expand(-1, enc_proj.size(1), -1)  # [1, time, cond_dim]\n",
    "        enc_proj = enc_proj + cond_vec\n",
    "\n",
    "    with torch.no_grad():\n",
    "        memory = model.encoder(enc_proj)\n",
    "\n",
    "    generated = enc_input[:, -1:, :]  # last frame from encoder input\n",
    "    all_gen = []\n",
    "\n",
    "    for t in range(predict_frames):\n",
    "        dec_len = generated.size(1)\n",
    "        if dec_len > model.pos_embed.size(1):\n",
    "            dec_pos_embed = torch.nn.functional.interpolate(\n",
    "                model.pos_embed.permute(0, 2, 1),\n",
    "                size=dec_len,\n",
    "                mode='linear',\n",
    "                align_corners=False\n",
    "            ).permute(0, 2, 1)\n",
    "        else:\n",
    "            dec_pos_embed = model.pos_embed[:, :dec_len, :]\n",
    "\n",
    "        dec_proj = model.input_proj(generated) + dec_pos_embed\n",
    "        tgt_mask = torch.triu(torch.ones((dec_len, dec_len), device=device), diagonal=1).bool()\n",
    "\n",
    "        with torch.no_grad():\n",
    "            out = model.decoder(dec_proj, memory, tgt_mask=tgt_mask)\n",
    "            out = model.output_proj(out)\n",
    "            next_frame = out[:, -1:, :]\n",
    "\n",
    "        generated = torch.cat([generated, next_frame], dim=1)\n",
    "        all_gen.append(next_frame.squeeze(0).squeeze(0))\n",
    "\n",
    "    generated_seq = torch.stack(all_gen, dim=1).cpu()\n",
    "    full_mel = torch.cat([mel_segment.cpu(), generated_seq], dim=1)\n",
    "\n",
    "    return full_mel\n"
   ]
  },
  {
   "cell_type": "markdown",
   "id": "a696f9cf",
   "metadata": {},
   "source": []
  },
  {
   "cell_type": "code",
   "execution_count": 38,
   "id": "f32326fc",
   "metadata": {},
   "outputs": [
    {
     "name": "stdout",
     "output_type": "stream",
     "text": [
      "✅ Saved seed mel-spectrogram to seed_mel.pt with shape: torch.Size([80, 2584])\n"
     ]
    }
   ],
   "source": [
    "import librosa\n",
    "import torch\n",
    "import numpy as np\n",
    "\n",
    "# --- Load a short audio clip ---\n",
    "# Keep it short (e.g. 1–2 seconds). You can crop a longer clip if needed.\n",
    "audio_path = \"/Users/pratiibhas/Documents/Deep Learning/Projects/extracted_audio/split_clips/4 HOURS STUDY GIRL - Cozy lofi music and rain in background [l-2hOKIrIyI]/4 HOURS STUDY GIRL - Cozy lofi music and rain in background [l-2hOKIrIyI]_clip_001.wav\"  # <-- your input audio file\n",
    "y, sr = librosa.load(audio_path, sr=22050)\n",
    "\n",
    "# --- Generate mel spectrogram ---\n",
    "mel_spec = librosa.feature.melspectrogram(y=y, sr=sr, n_fft=1024, hop_length=256, n_mels=80)\n",
    "mel_db = librosa.power_to_db(mel_spec, ref=np.max)  # Shape: [80, time_frames]\n",
    "\n",
    "# --- Optionally normalize (depends on how your model was trained) ---\n",
    "# mel_db = (mel_db - mel_db.mean()) / mel_db.std()\n",
    "\n",
    "# --- Convert to torch tensor and save ---\n",
    "mel_tensor = torch.tensor(mel_db, dtype=torch.float32)\n",
    "torch.save(mel_tensor, \"seed_mel.pt\")\n",
    "\n",
    "print(\"✅ Saved seed mel-spectrogram to seed_mel.pt with shape:\", mel_tensor.shape)\n",
    "\n"
   ]
  },
  {
   "cell_type": "code",
   "execution_count": 42,
   "id": "b2007ccf",
   "metadata": {},
   "outputs": [],
   "source": [
    "mel_segment = torch.load(\"seed_mel.pt\")  # This should return a tensor, NOT a string\n",
    "mel_tensor = torch.tensor(mel_db, dtype=torch.float32)  # shape: [80, T]\n",
    "mel_tensor = mel_tensor.T.unsqueeze(0)  # shape: [1, T, 80]\n"
   ]
  },
  {
   "cell_type": "code",
   "execution_count": 49,
   "id": "cc97cfd9",
   "metadata": {},
   "outputs": [],
   "source": [
    "mel_tensor = mel_tensor[:, :640, :]  # shape: [1, 640, 80]\n",
    "enc_proj = nn.Linear(80, 256)\n",
    "enc_input = enc_proj(mel_tensor)  # shape: [1, 640, 256]\n"
   ]
  },
  {
   "cell_type": "code",
   "execution_count": 45,
   "id": "184db613",
   "metadata": {},
   "outputs": [
    {
     "data": {
      "text/plain": [
       "torch.Size([1, 640, 256])"
      ]
     },
     "execution_count": 45,
     "metadata": {},
     "output_type": "execute_result"
    }
   ],
   "source": [
    "enc_input.shape"
   ]
  },
  {
   "cell_type": "code",
   "execution_count": 46,
   "id": "f4903089",
   "metadata": {},
   "outputs": [],
   "source": [
    "import re\n",
    "import torch.nn as nn\n",
    "\n",
    "# Very simple tokenizer (split by spaces, remove punctuation)\n",
    "def simple_tokenize(text):\n",
    "    text = re.sub(r'[^\\w\\s]', '', text.lower())\n",
    "    return text.split()\n",
    "\n",
    "# Example vocab (extend based on your dataset)\n",
    "vocab = {'a':0, 'calm':1, 'night':2, 'study':3, 'music':4, 'lofi':5, 'and':6, 'classical':7, 'mix':8, '<unk>':9}\n",
    "vocab_size = len(vocab)\n",
    "embed_dim = model.cond_dim  # Use same dim as model expects\n",
    "\n",
    "embedding = nn.Embedding(vocab_size, embed_dim)\n",
    "\n",
    "# Tokenize and embed prompt\n",
    "prompt = \"A calm night study music lofi and classical mix\"\n",
    "tokens = simple_tokenize(prompt)\n",
    "token_ids = torch.tensor([[vocab.get(tok, vocab['<unk>']) for tok in tokens]])  # shape: [1, seq_len]\n",
    "cond_vec = embedding(token_ids).mean(dim=1)  # shape: [1, embed_dim]\n"
   ]
  },
  {
   "cell_type": "code",
   "execution_count": 50,
   "id": "dd2b7127",
   "metadata": {},
   "outputs": [
    {
     "name": "stdout",
     "output_type": "stream",
     "text": [
      "enc_input shape: torch.Size([1, 640, 256])\n",
      "pos_embed shape: torch.Size([1, 640, 256])\n"
     ]
    }
   ],
   "source": [
    "input_len = mel_segment.shape[1]\n",
    "pos_embed = model.pos_embed[:, :input_len, :]  # [1, time, model_dim]\n",
    "\n",
    "print(\"enc_input shape:\", enc_input.shape)\n",
    "print(\"pos_embed shape:\", pos_embed.shape)\n"
   ]
  },
  {
   "cell_type": "code",
   "execution_count": 51,
   "id": "ac98c6e1",
   "metadata": {},
   "outputs": [
    {
     "ename": "RuntimeError",
     "evalue": "mat1 and mat2 shapes cannot be multiplied (640x256 and 128x256)",
     "output_type": "error",
     "traceback": [
      "\u001b[31m---------------------------------------------------------------------------\u001b[39m",
      "\u001b[31mRuntimeError\u001b[39m                              Traceback (most recent call last)",
      "\u001b[36mCell\u001b[39m\u001b[36m \u001b[39m\u001b[32mIn[51]\u001b[39m\u001b[32m, line 2\u001b[39m\n\u001b[32m      1\u001b[39m \u001b[38;5;66;03m# Project encoder input to model_dim\u001b[39;00m\n\u001b[32m----> \u001b[39m\u001b[32m2\u001b[39m enc_proj = \u001b[43mmodel\u001b[49m\u001b[43m.\u001b[49m\u001b[43minput_proj\u001b[49m\u001b[43m(\u001b[49m\u001b[43menc_input\u001b[49m\u001b[43m)\u001b[49m  \u001b[38;5;66;03m# shape: [1, 2584, 256]\u001b[39;00m\n\u001b[32m      4\u001b[39m \u001b[38;5;66;03m# Interpolate positional embeddings to match input_len (2584)\u001b[39;00m\n\u001b[32m      5\u001b[39m \u001b[38;5;28;01mif\u001b[39;00m input_len > model.pos_embed.size(\u001b[32m1\u001b[39m):\n",
      "\u001b[36mFile \u001b[39m\u001b[32m~/.pyenv/versions/3.11.8/lib/python3.11/site-packages/torch/nn/modules/module.py:1751\u001b[39m, in \u001b[36mModule._wrapped_call_impl\u001b[39m\u001b[34m(self, *args, **kwargs)\u001b[39m\n\u001b[32m   1749\u001b[39m     \u001b[38;5;28;01mreturn\u001b[39;00m \u001b[38;5;28mself\u001b[39m._compiled_call_impl(*args, **kwargs)  \u001b[38;5;66;03m# type: ignore[misc]\u001b[39;00m\n\u001b[32m   1750\u001b[39m \u001b[38;5;28;01melse\u001b[39;00m:\n\u001b[32m-> \u001b[39m\u001b[32m1751\u001b[39m     \u001b[38;5;28;01mreturn\u001b[39;00m \u001b[38;5;28;43mself\u001b[39;49m\u001b[43m.\u001b[49m\u001b[43m_call_impl\u001b[49m\u001b[43m(\u001b[49m\u001b[43m*\u001b[49m\u001b[43margs\u001b[49m\u001b[43m,\u001b[49m\u001b[43m \u001b[49m\u001b[43m*\u001b[49m\u001b[43m*\u001b[49m\u001b[43mkwargs\u001b[49m\u001b[43m)\u001b[49m\n",
      "\u001b[36mFile \u001b[39m\u001b[32m~/.pyenv/versions/3.11.8/lib/python3.11/site-packages/torch/nn/modules/module.py:1762\u001b[39m, in \u001b[36mModule._call_impl\u001b[39m\u001b[34m(self, *args, **kwargs)\u001b[39m\n\u001b[32m   1757\u001b[39m \u001b[38;5;66;03m# If we don't have any hooks, we want to skip the rest of the logic in\u001b[39;00m\n\u001b[32m   1758\u001b[39m \u001b[38;5;66;03m# this function, and just call forward.\u001b[39;00m\n\u001b[32m   1759\u001b[39m \u001b[38;5;28;01mif\u001b[39;00m \u001b[38;5;129;01mnot\u001b[39;00m (\u001b[38;5;28mself\u001b[39m._backward_hooks \u001b[38;5;129;01mor\u001b[39;00m \u001b[38;5;28mself\u001b[39m._backward_pre_hooks \u001b[38;5;129;01mor\u001b[39;00m \u001b[38;5;28mself\u001b[39m._forward_hooks \u001b[38;5;129;01mor\u001b[39;00m \u001b[38;5;28mself\u001b[39m._forward_pre_hooks\n\u001b[32m   1760\u001b[39m         \u001b[38;5;129;01mor\u001b[39;00m _global_backward_pre_hooks \u001b[38;5;129;01mor\u001b[39;00m _global_backward_hooks\n\u001b[32m   1761\u001b[39m         \u001b[38;5;129;01mor\u001b[39;00m _global_forward_hooks \u001b[38;5;129;01mor\u001b[39;00m _global_forward_pre_hooks):\n\u001b[32m-> \u001b[39m\u001b[32m1762\u001b[39m     \u001b[38;5;28;01mreturn\u001b[39;00m \u001b[43mforward_call\u001b[49m\u001b[43m(\u001b[49m\u001b[43m*\u001b[49m\u001b[43margs\u001b[49m\u001b[43m,\u001b[49m\u001b[43m \u001b[49m\u001b[43m*\u001b[49m\u001b[43m*\u001b[49m\u001b[43mkwargs\u001b[49m\u001b[43m)\u001b[49m\n\u001b[32m   1764\u001b[39m result = \u001b[38;5;28;01mNone\u001b[39;00m\n\u001b[32m   1765\u001b[39m called_always_called_hooks = \u001b[38;5;28mset\u001b[39m()\n",
      "\u001b[36mFile \u001b[39m\u001b[32m~/.pyenv/versions/3.11.8/lib/python3.11/site-packages/torch/nn/modules/linear.py:125\u001b[39m, in \u001b[36mLinear.forward\u001b[39m\u001b[34m(self, input)\u001b[39m\n\u001b[32m    124\u001b[39m \u001b[38;5;28;01mdef\u001b[39;00m\u001b[38;5;250m \u001b[39m\u001b[34mforward\u001b[39m(\u001b[38;5;28mself\u001b[39m, \u001b[38;5;28minput\u001b[39m: Tensor) -> Tensor:\n\u001b[32m--> \u001b[39m\u001b[32m125\u001b[39m     \u001b[38;5;28;01mreturn\u001b[39;00m \u001b[43mF\u001b[49m\u001b[43m.\u001b[49m\u001b[43mlinear\u001b[49m\u001b[43m(\u001b[49m\u001b[38;5;28;43minput\u001b[39;49m\u001b[43m,\u001b[49m\u001b[43m \u001b[49m\u001b[38;5;28;43mself\u001b[39;49m\u001b[43m.\u001b[49m\u001b[43mweight\u001b[49m\u001b[43m,\u001b[49m\u001b[43m \u001b[49m\u001b[38;5;28;43mself\u001b[39;49m\u001b[43m.\u001b[49m\u001b[43mbias\u001b[49m\u001b[43m)\u001b[49m\n",
      "\u001b[31mRuntimeError\u001b[39m: mat1 and mat2 shapes cannot be multiplied (640x256 and 128x256)"
     ]
    }
   ],
   "source": [
    "# Project encoder input to model_dim\n",
    "enc_proj = model.input_proj(enc_input)  # shape: [1, 2584, 256]\n",
    "\n",
    "# Interpolate positional embeddings to match input_len (2584)\n",
    "if input_len > model.pos_embed.size(1):\n",
    "    pos_embed = torch.nn.functional.interpolate(\n",
    "        model.pos_embed.permute(0, 2, 1),  # [1, 256, 640]\n",
    "        size=input_len,                    # 2584\n",
    "        mode='linear',\n",
    "        align_corners=False\n",
    "    ).permute(0, 2, 1)  # back to [1, 2584, 256]\n",
    "else:\n",
    "    pos_embed = model.pos_embed[:, :input_len, :]  # [1, input_len, 256]\n",
    "\n",
    "# Add positional embedding to projected input\n",
    "enc_proj = enc_proj + pos_embed\n"
   ]
  },
  {
   "cell_type": "code",
   "execution_count": 56,
   "id": "fdfd3e9b",
   "metadata": {},
   "outputs": [
    {
     "ename": "TypeError",
     "evalue": "unsupported operand type(s) for +: 'Linear' and 'Tensor'",
     "output_type": "error",
     "traceback": [
      "\u001b[31m---------------------------------------------------------------------------\u001b[39m",
      "\u001b[31mTypeError\u001b[39m                                 Traceback (most recent call last)",
      "\u001b[36mCell\u001b[39m\u001b[36m \u001b[39m\u001b[32mIn[56]\u001b[39m\u001b[32m, line 27\u001b[39m\n\u001b[32m     24\u001b[39m     pos_embed = model.pos_embed[:, :input_len, :]  \u001b[38;5;66;03m# slice to match\u001b[39;00m\n\u001b[32m     26\u001b[39m \u001b[38;5;66;03m# Add positional embeddings\u001b[39;00m\n\u001b[32m---> \u001b[39m\u001b[32m27\u001b[39m enc_proj = \u001b[43menc_proj\u001b[49m\u001b[43m \u001b[49m\u001b[43m+\u001b[49m\u001b[43m \u001b[49m\u001b[43mpos_embed\u001b[49m\n\u001b[32m     29\u001b[39m \u001b[38;5;66;03m# Call frame generation function\u001b[39;00m\n\u001b[32m     30\u001b[39m full_mel = generate_future_frames(model, mel_segment.unsqueeze(\u001b[32m0\u001b[39m), cond_vec, predict_frames=\u001b[32m128\u001b[39m, device=device)\n",
      "\u001b[31mTypeError\u001b[39m: unsupported operand type(s) for +: 'Linear' and 'Tensor'"
     ]
    }
   ],
   "source": [
    "import torch\n",
    "import numpy as np\n",
    "import librosa\n",
    "import soundfile as sf\n",
    "import torch.nn.functional as F\n",
    "\n",
    "\n",
    "input_len = enc_input.shape[1]\n",
    "\n",
    "# Project input to model_dim\n",
    "mel_tensor = mel_tensor[:, :640, :]  # shape: [1, 640, 80]\n",
    "enc_proj = nn.Linear(80, 256)\n",
    "enc_input = enc_proj(mel_tensor)  # shape: [1, 640, 256]\n",
    "\n",
    "# Handle positional embeddings\n",
    "if input_len > model.pos_embed.size(1):\n",
    "    pos_embed = F.interpolate(\n",
    "        model.pos_embed.permute(0, 2, 1),  # [1, model_dim, max_len]\n",
    "        size=input_len,                   # interpolate to match time steps\n",
    "        mode='linear',\n",
    "        align_corners=False\n",
    "    ).permute(0, 2, 1)  # back to [1, time, model_dim]\n",
    "else:\n",
    "    pos_embed = model.pos_embed[:, :input_len, :]  # slice to match\n",
    "\n",
    "# Add positional embeddings\n",
    "enc_proj = enc_proj + pos_embed\n",
    "\n",
    "# Call frame generation function\n",
    "full_mel = generate_future_frames(model, mel_segment.unsqueeze(0), cond_vec, predict_frames=128, device=device)\n",
    "\n",
    "# Transpose if needed: mel shape should be [n_mels=80, time]\n",
    "if full_mel.shape[0] != 80:\n",
    "    full_mel = full_mel.T\n",
    "\n",
    "# Convert mel-spectrogram to power (inverse of dB)\n",
    "mel_db = full_mel.cpu().numpy()\n",
    "mel_db = np.clip(mel_db, a_min=1e-5, a_max=None)\n",
    "mel_power = librosa.db_to_power(mel_db)\n",
    "\n",
    "# Convert mel to waveform\n",
    "sr = 22050  # Adjust if different\n",
    "waveform = librosa.feature.inverse.mel_to_audio(\n",
    "    mel_power,\n",
    "    sr=sr,\n",
    "    n_fft=1024,\n",
    "    hop_length=256,\n",
    "    win_length=1024,\n",
    ")\n",
    "\n",
    "# Save to WAV\n",
    "sf.write(\"generated_audio.wav\", waveform, samplerate=sr)\n",
    "print(\"✅ Audio saved as generated_audio.wav\")\n"
   ]
  },
  {
   "cell_type": "code",
   "execution_count": null,
   "id": "b962e6ea",
   "metadata": {},
   "outputs": [],
   "source": [
    "import torch\n",
    "import librosa\n",
    "import numpy as np\n",
    "import soundfile as sf\n",
    "\n",
    "device = \"cuda\" if torch.cuda.is_available() else \"cpu\"\n",
    "\n",
    "# --- Step 1: Load audio and create mel spectrogram with correct mel bins ---\n",
    "audio_path = \"extracted_audio/split_clips/4 Hours Chopin for Studying, Concentration & Relaxation [4fezP875xOQ]/4 Hours Chopin for Studying, Concentration & Relaxation [4fezP875xOQ]_clip_001.wav\"\n",
    "y, sr = librosa.load(audio_path, sr=22050)\n",
    "\n",
    "# Make sure n_mels matches model.input_proj.in_features, assumed 128 here\n",
    "n_mels = 128\n",
    "\n",
    "mel_spec = librosa.feature.melspectrogram(\n",
    "    y=y, sr=sr,\n",
    "    n_fft=1024,\n",
    "    hop_length=256,\n",
    "    n_mels=n_mels\n",
    ")\n",
    "mel_db = librosa.power_to_db(mel_spec, ref=np.max)  # shape: [n_mels, time_steps]\n",
    "\n",
    "# --- Step 2: Convert mel spectrogram to torch tensor ---\n",
    "# Transpose so shape is [time_steps, n_mels] then add batch dim -> [1, time_steps, n_mels]\n",
    "mel_tensor = torch.tensor(mel_db.T, dtype=torch.float32).unsqueeze(0).to(device)  \n",
    "\n",
    "# --- Step 3: Trim or pad time dimension to max length supported by model ---\n",
    "max_len = model.pos_embed.shape[1]  # e.g. 640 time steps supported\n",
    "\n",
    "if mel_tensor.shape[1] > max_len:\n",
    "    mel_tensor = mel_tensor[:, :max_len, :]\n",
    "else:\n",
    "    # optionally pad with zeros if too short (depends on your model)\n",
    "    pad_len = max_len - mel_tensor.shape[1]\n",
    "    if pad_len > 0:\n",
    "        padding = torch.zeros((1, pad_len, n_mels), device=device)\n",
    "        mel_tensor = torch.cat([mel_tensor, padding], dim=1)\n",
    "\n",
    "# --- Step 4: Call your model's generation function ---\n",
    "# Pass mel_tensor raw to generate_future_frames, which internally applies input_proj\n",
    "full_mel = generate_future_frames(\n",
    "    model,\n",
    "    mel_tensor,\n",
    "    cond_vec,            # your conditioning vector or None\n",
    "    predict_frames=128,\n",
    "    device=device\n",
    ")\n",
    "\n",
    "# --- Step 5: Post-process generated mel and convert to waveform ---\n",
    "\n",
    "# full_mel shape should be [1, time, n_mels] or [time, n_mels], transpose if needed\n",
    "full_mel = full_mel.squeeze(0)  # remove batch dim if present\n",
    "\n",
    "if full_mel.shape[1] != n_mels:\n",
    "    full_mel = full_mel.T\n",
    "\n",
    "# Convert from dB back to power\n",
    "mel_power = librosa.db_to_power(full_mel.cpu().numpy())\n",
    "\n",
    "# Inverse mel to waveform\n",
    "waveform = librosa.feature.inverse.mel_to_audio(\n",
    "    mel_power,\n",
    "    sr=sr,\n",
    "    n_fft=1024,\n",
    "    hop_length=256,\n",
    "    win_length=1024,\n",
    ")\n",
    "\n",
    "# --- Step 6: Save waveform ---\n",
    "sf.write(\"generated_audio.wav\", waveform, samplerate=sr)\n",
    "print(\"✅ Audio saved as generated_audio.wav\")\n",
    "\n"
   ]
  },
  {
   "cell_type": "code",
   "execution_count": 36,
   "id": "2c13539e",
   "metadata": {},
   "outputs": [
    {
     "name": "stdout",
     "output_type": "stream",
     "text": [
      "torch.Size([1, 128, 2584])\n"
     ]
    }
   ],
   "source": [
    "print(enc_input.shape)"
   ]
  },
  {
   "cell_type": "code",
   "execution_count": null,
   "id": "ad7aca0e",
   "metadata": {},
   "outputs": [
    {
     "name": "stdout",
     "output_type": "stream",
     "text": [
      "torch.Size([1742, 48000])\n"
     ]
    }
   ],
   "source": [
    "mel_tensor = torch.tensor(d['waveform_fixed'], dtype=torch.float32)  # [mel, time]\n",
    "print(mel_tensor.shape)"
   ]
  },
  {
   "cell_type": "code",
   "execution_count": null,
   "id": "0ad894d3",
   "metadata": {},
   "outputs": [
    {
     "data": {
      "text/plain": [
       "torch.Size([128, 2584])"
      ]
     },
     "execution_count": 83,
     "metadata": {},
     "output_type": "execute_result"
    }
   ],
   "source": [
    "mel_segment.shape"
   ]
  },
  {
   "cell_type": "code",
   "execution_count": null,
   "id": "f1c4ec4b",
   "metadata": {},
   "outputs": [
    {
     "data": {
      "text/plain": [
       "tensor([[[-80.0000, -80.0000, -80.0000,  ..., -80.0000, -80.0000, -80.0000],\n",
       "         [-80.0000, -80.0000, -80.0000,  ..., -80.0000, -80.0000, -80.0000],\n",
       "         [-80.0000, -80.0000, -80.0000,  ..., -80.0000, -80.0000, -80.0000],\n",
       "         ...,\n",
       "         [-16.9500, -15.0860, -21.7172,  ..., -73.5214, -72.3007, -80.0000],\n",
       "         [-17.1494, -15.2372, -21.9110,  ..., -69.9855, -70.5589, -80.0000],\n",
       "         [-18.2444, -15.7124, -21.2365,  ..., -69.3385, -70.0828, -75.0746]]])"
      ]
     },
     "execution_count": 85,
     "metadata": {},
     "output_type": "execute_result"
    }
   ],
   "source": [
    "# If mel_tensor shape is [batch_size, mel_dim, time], pick one sample:\n",
    "mel_example = mel_tensor[0]  # shape [80, time]\n",
    "enc_input = mel_segment.T.unsqueeze(0).to(device)  # shape: [1, time, 128]\n",
    "\n",
    "enc_input"
   ]
  },
  {
   "cell_type": "code",
   "execution_count": null,
   "id": "ac05f104",
   "metadata": {},
   "outputs": [
    {
     "data": {
      "text/plain": [
       "Linear(in_features=128, out_features=256, bias=True)"
      ]
     },
     "execution_count": 87,
     "metadata": {},
     "output_type": "execute_result"
    }
   ],
   "source": [
    "model.input_proj"
   ]
  },
  {
   "cell_type": "code",
   "execution_count": null,
   "id": "72a84b95",
   "metadata": {},
   "outputs": [
    {
     "data": {
      "text/plain": [
       "torch.Size([1, 2])"
      ]
     },
     "execution_count": 88,
     "metadata": {},
     "output_type": "execute_result"
    }
   ],
   "source": [
    "cond_vec.shape"
   ]
  },
  {
   "cell_type": "code",
   "execution_count": null,
   "id": "3679301c",
   "metadata": {},
   "outputs": [],
   "source": [
    "generated_mel = generate_future_frames(model, mel_example, predict_frames=128, device='cpu')\n",
    "generated_mel"
   ]
  },
  {
   "cell_type": "code",
   "execution_count": null,
   "id": "9f5981a3",
   "metadata": {},
   "outputs": [
    {
     "data": {
      "image/png": "[encoded data removed]",
      "text/plain": [
       "<Figure size 1000x400 with 2 Axes>"
      ]
     },
     "metadata": {},
     "output_type": "display_data"
    }
   ],
   "source": [
    "# Convert tensor to numpy array\n",
    "mel_np = generated_mel.detach().cpu().numpy()  # detach if tensor requires grad; move to cpu if on GPU\n",
    "\n",
    "plt.figure(figsize=(10, 4))\n",
    "librosa.display.specshow(mel_np, sr=22050, hop_length=256, x_axis='time', y_axis='mel')\n",
    "plt.colorbar(format='%+2.0f dB')\n",
    "plt.title('Generated Mel Spectrogram')\n",
    "plt.tight_layout()\n",
    "plt.show()"
   ]
  },
  {
   "cell_type": "code",
   "execution_count": null,
   "id": "028a568a",
   "metadata": {},
   "outputs": [],
   "source": [
    "def waveform_to_mel(waveform, sr=16000, n_mels=80, hop_length=256, n_fft=1024):\n",
    "    mel_spec = librosa.feature.melspectrogram(\n",
    "        y=np.array(waveform),\n",
    "        sr=sr,\n",
    "        n_mels=n_mels,\n",
    "        hop_length=hop_length,\n",
    "        n_fft=n_fft\n",
    "    )\n",
    "    mel_spec = librosa.power_to_db(mel_spec, ref=np.max)\n",
    "    mel_spec = mel_spec.T  # [time, mel]\n",
    "    return torch.tensor(mel_spec, dtype=torch.float32)\n"
   ]
  },
  {
   "cell_type": "code",
   "execution_count": null,
   "id": "69f6e637",
   "metadata": {},
   "outputs": [],
   "source": [
    "import librosa\n",
    "import librosa.display\n",
    "import soundfile as sf\n",
    "\n",
    "# Assume you used same parameters during mel creation\n",
    "def mel_to_audio(mel, sr=22050, n_fft=1024, hop_length=256, n_iter=60):\n",
    "    mel = mel.numpy()  # If mel is a PyTorch tensor; remove if mel is already a numpy array\n",
    "    mel_db = librosa.db_to_power(mel)\n",
    "    audio = librosa.feature.inverse.mel_to_audio(\n",
    "        mel_db, sr=sr, n_fft=n_fft, hop_length=hop_length, n_iter=n_iter\n",
    "    )\n",
    "    return audio\n",
    "\n",
    "# Example usage:\n",
    "audio = mel_to_audio(generated_mel)\n",
    "sf.write('generated_audio.wav', audio, samplerate=22050)\n"
   ]
  },
  {
   "cell_type": "code",
   "execution_count": null,
   "id": "6768f5bd",
   "metadata": {},
   "outputs": [],
   "source": [
    "def mel_to_audio(mel, sr=22050, n_fft=1024, hop_length=256, n_iter=60):\n",
    "    # mel = mel.numpy()  # Remove this line since mel is already a numpy array\n",
    "    mel_db = librosa.db_to_power(mel)\n",
    "    audio = librosa.feature.inverse.mel_to_audio(\n",
    "        mel_db, sr=sr, n_fft=n_fft, hop_length=hop_length, n_iter=n_iter\n",
    "    )\n",
    "    return audio\n",
    "\n"
   ]
  },
  {
   "cell_type": "code",
   "execution_count": null,
   "id": "15924602",
   "metadata": {},
   "outputs": [],
   "source": [
    "import soundfile as sf\n",
    "audio = mel_to_audio(generated_mel)\n",
    "sf.write('generated_audio.wav', audio, samplerate=22050)\n"
   ]
  }
 ],
 "metadata": {
  "kernelspec": {
   "display_name": "Python 3",
   "language": "python",
   "name": "python3"
  },
  "language_info": {
   "codemirror_mode": {
    "name": "ipython",
    "version": 3
   },
   "file_extension": ".py",
   "mimetype": "text/x-python",
   "name": "python",
   "nbconvert_exporter": "python",
   "pygments_lexer": "ipython3",
   "version": "3.11.8"
  }
 },
 "nbformat": 4,
 "nbformat_minor": 5
}
